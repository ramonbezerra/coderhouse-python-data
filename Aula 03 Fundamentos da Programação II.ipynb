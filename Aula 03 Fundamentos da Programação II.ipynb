{
 "cells": [
  {
   "cell_type": "markdown",
   "metadata": {},
   "source": [
    "# Fundamentos da Programação II\n",
    "\n",
    "## Revisando a aula anterior...\n",
    "\n",
    "Listas, Dicionários, Tuplas e Sets (Conjuntos)"
   ]
  },
  {
   "cell_type": "code",
   "execution_count": null,
   "metadata": {},
   "outputs": [],
   "source": [
    "lista = [1, 2, 2, \"Ramon\", \"Bezerra\"] # posso repetir, alterar e adicionar\n",
    "print(lista[0])\n",
    "\n",
    "dicionario = {\"chave1\":\"valor1\", 20: \"valor2\", \"chave3\":\"valor1\"} # posso acessar por chave única para cada valor\n",
    "dicionario[\"chave1\"]\n",
    "\n",
    "tupla = (1, 2, 2, \"Ramon\", \"Bezerra\") # posso repetir, mas não posso alterar e adicionar\n",
    "\n",
    "set = {1, 2, \"Ramon\", \"Bezerra\"} # não posso repetir, mas posso alterar e adicionar"
   ]
  },
  {
   "cell_type": "markdown",
   "metadata": {},
   "source": [
    "Ainda é possível ter listas de listas (também conhecido como matrizes), que vão ser úteis em nossas análises:"
   ]
  },
  {
   "cell_type": "code",
   "execution_count": null,
   "metadata": {},
   "outputs": [],
   "source": [
    "matriz = [[1, 2, 3], \n",
    "          [4, 5, 6], \n",
    "          [7, 8, 9]]\n",
    "matriz_de_tuplas = [(1, 2, 3), (4, 5, 6), (7, 8, 9)]\n",
    "\n",
    "print(matriz[0][2])\n",
    "print(matriz_de_tuplas[0][2])"
   ]
  },
  {
   "cell_type": "markdown",
   "metadata": {},
   "source": [
    "Faça um programa que crie uma lista com 5 frutas e permita que o usuário digite o nome de uma fruta. Se for uma fruta repetida deverá ser desconsiderada."
   ]
  },
  {
   "cell_type": "code",
   "execution_count": 7,
   "metadata": {},
   "outputs": [
    {
     "name": "stdout",
     "output_type": "stream",
     "text": [
      "{'Pera', 'Maçã', 'Banana', 'Abacaxi', 'Caju', 'Kiwi'}\n"
     ]
    }
   ],
   "source": [
    "# solução\n",
    "\n",
    "lista = {\"Banana\", \"Pera\", \"Maçã\", \"Abacaxi\", \"Kiwi\"}\n",
    "\n",
    "fruta = input(\"Digite uma fruta...\")\n",
    "\n",
    "lista.add(fruta)\n",
    "\n",
    "print(lista)"
   ]
  },
  {
   "cell_type": "markdown",
   "metadata": {},
   "source": [
    "Faça um programa que peça ao usuário para digitar uma frase e substitua todas as vogais por asteriscos (*)."
   ]
  },
  {
   "cell_type": "code",
   "execution_count": 12,
   "metadata": {},
   "outputs": [
    {
     "name": "stdout",
     "output_type": "stream",
     "text": [
      "b*m-v*nd* * **l*\n"
     ]
    }
   ],
   "source": [
    "# solução\n",
    "\n",
    "frase = input(\"Digite uma frase qualquer...\")\n",
    "\n",
    "nova_frase = frase.replace(\"a\", \"*\").replace(\"e\", \"*\").replace(\"i\", \"*\").replace(\"o\", \"*\").replace(\"u\", \"*\").replace(\"A\", \"*\").replace(\"E\", \"*\").replace(\"I\", \"*\").replace(\"O\", \"*\").replace(\"U\", \"*\")\n",
    "\n",
    "print(nova_frase)"
   ]
  },
  {
   "cell_type": "code",
   "execution_count": 15,
   "metadata": {},
   "outputs": [
    {
     "name": "stdout",
     "output_type": "stream",
     "text": [
      "X é diferente de 5\n"
     ]
    }
   ],
   "source": [
    "x = 4\n",
    "if x == 5:\n",
    "    print(\"x = 5\")\n",
    "print(\"X é diferente de 5\")"
   ]
  },
  {
   "cell_type": "markdown",
   "metadata": {},
   "source": [
    "## Adicionando fluxos alternativos ao código\n",
    "\n",
    "Se quisermos avaliar a aprovação ou reprovação de um aluno, com base na média 7,0: "
   ]
  },
  {
   "cell_type": "code",
   "execution_count": 16,
   "metadata": {},
   "outputs": [
    {
     "name": "stdout",
     "output_type": "stream",
     "text": [
      "Reprovado\n"
     ]
    }
   ],
   "source": [
    "# solução\n",
    "media_1 = int(input(\"Digite a media do bimestre 1: \"))\n",
    "media_2 = int(input(\"Digite a media do bimestre 2: \"))\n",
    "media_3 = int(input(\"Digite a media do bimestre 3: \"))\n",
    "media_4 = int(input(\"Digite a media do bimestre 4: \"))\n",
    "\n",
    "media_final = (media_1 + media_2 + media_3 + media_4) / 4\n",
    "\n",
    "if media_final >= 7:\n",
    "    print(\"Aprovado\")\n",
    "else:\n",
    "    print(\"Reprovado\")"
   ]
  },
  {
   "cell_type": "markdown",
   "metadata": {},
   "source": [
    "Podemos adicionar uma condição que diz se o aluno foi aprovado com distinção (média 10):"
   ]
  },
  {
   "cell_type": "code",
   "execution_count": 19,
   "metadata": {},
   "outputs": [
    {
     "name": "stdout",
     "output_type": "stream",
     "text": [
      "Aprovado com Distinção\n"
     ]
    }
   ],
   "source": [
    "# solução\n",
    "media_1 = int(input(\"Digite a media do bimestre 1: \"))\n",
    "media_2 = int(input(\"Digite a media do bimestre 2: \"))\n",
    "media_3 = int(input(\"Digite a media do bimestre 3: \"))\n",
    "media_4 = int(input(\"Digite a media do bimestre 4: \"))\n",
    "\n",
    "media_final = (media_1 + media_2 + media_3 + media_4) / 4\n",
    "\n",
    "if media_final == 10:\n",
    "    print(\"Aprovado com Distinção\")\n",
    "elif media_final >= 7 and media_final < 10:\n",
    "    print(\"Aprovado\")\n",
    "else:\n",
    "    print(\"Reprovado\")"
   ]
  },
  {
   "cell_type": "markdown",
   "metadata": {},
   "source": [
    "E ainda avaliar se o aluno foi para a final (pelo menos alcançando média 4,0):"
   ]
  },
  {
   "cell_type": "code",
   "execution_count": 24,
   "metadata": {},
   "outputs": [
    {
     "name": "stdout",
     "output_type": "stream",
     "text": [
      "Aprovado com Distinção\n"
     ]
    }
   ],
   "source": [
    "# solução\n",
    "media_1 = int(input(\"Digite a media do bimestre 1: \"))\n",
    "media_2 = int(input(\"Digite a media do bimestre 2: \"))\n",
    "media_3 = int(input(\"Digite a media do bimestre 3: \"))\n",
    "media_4 = int(input(\"Digite a media do bimestre 4: \"))\n",
    "\n",
    "media_final = (media_1 + media_2 + media_3 + media_4) / 4\n",
    "\n",
    "if media_final == 10:\n",
    "    print(\"Aprovado com Distinção\")\n",
    "elif media_final >= 7:\n",
    "    print(\"Aprovado\")\n",
    "elif media_final >= 4:\n",
    "    print(\"Prova Final\")\n",
    "else:\n",
    "    print(\"Reprovado\")"
   ]
  },
  {
   "cell_type": "markdown",
   "metadata": {},
   "source": [
    "## Usando repetições\n",
    "\n",
    "Caso fosse necessário avaliar a situação de muitos alunos:"
   ]
  },
  {
   "cell_type": "code",
   "execution_count": 26,
   "metadata": {},
   "outputs": [
    {
     "name": "stdout",
     "output_type": "stream",
     "text": [
      "Prova Final\n",
      "Prova Final\n"
     ]
    }
   ],
   "source": [
    "# solução\n",
    "controle = int(input(\"Digite 1 para calcular média ou 0 para sair\"))\n",
    "\n",
    "while controle != 0 or controle == 1:\n",
    "    media_1 = int(input(\"Digite a media do bimestre 1: \"))\n",
    "    media_2 = int(input(\"Digite a media do bimestre 2: \"))\n",
    "    media_3 = int(input(\"Digite a media do bimestre 3: \"))\n",
    "    media_4 = int(input(\"Digite a media do bimestre 4: \"))\n",
    "\n",
    "    media_final = (media_1 + media_2 + media_3 + media_4) / 4\n",
    "\n",
    "    if media_final == 10:\n",
    "        print(\"Aprovado com Distinção\")\n",
    "    elif media_final >= 7:\n",
    "        print(\"Aprovado\")\n",
    "    elif media_final >= 4:\n",
    "        print(\"Prova Final\")\n",
    "    else:\n",
    "        print(\"Reprovado\")\n",
    "\n",
    "    # atualizar variável de controle\n",
    "    controle = int(input(\"Digite 1 para calcular média ou 0 para sair\"))"
   ]
  },
  {
   "cell_type": "markdown",
   "metadata": {},
   "source": [
    "E se precisarmos avaliar apenas a situação de 10 alunos?"
   ]
  },
  {
   "cell_type": "code",
   "execution_count": null,
   "metadata": {},
   "outputs": [],
   "source": [
    "# solução\n",
    "lista_repeticoes = \"Ramon Bezerra\"\n",
    "for controle in range(len(lista_repeticoes), 6, 2):\n",
    "    media_1 = int(input(\"Digite a media do bimestre 1: \"))\n",
    "    media_2 = int(input(\"Digite a media do bimestre 2: \"))\n",
    "    media_3 = int(input(\"Digite a media do bimestre 3: \"))\n",
    "    media_4 = int(input(\"Digite a media do bimestre 4: \"))\n",
    "\n",
    "    media_final = (media_1 + media_2 + media_3 + media_4) / 4\n",
    "\n",
    "    if media_final == 10:\n",
    "        print(\"Aprovado com Distinção\")\n",
    "    elif media_final >= 7:\n",
    "        print(\"Aprovado\")\n",
    "    elif media_final >= 4:\n",
    "        print(\"Prova Final\")\n",
    "    else:\n",
    "        print(\"Reprovado\")\n",
    "\n",
    "    # atualizar variável de controle\n",
    "    # ????"
   ]
  },
  {
   "cell_type": "markdown",
   "metadata": {},
   "source": [
    "Caso esses alunos já estivessem em uma lista, poderíamos deixar a saída mais elegante:"
   ]
  },
  {
   "cell_type": "code",
   "execution_count": null,
   "metadata": {},
   "outputs": [],
   "source": [
    "# solução\n",
    "lista_alunos = [\"Ramon\", \"Luisa\", \"Andre\", \"Joaozinho\", \"Mariazinha\"]\n",
    "for controle in lista_alunos:\n",
    "    media_1 = int(input(\"Digite a media do bimestre 1: \"))\n",
    "    media_2 = int(input(\"Digite a media do bimestre 2: \"))\n",
    "    media_3 = int(input(\"Digite a media do bimestre 3: \"))\n",
    "    media_4 = int(input(\"Digite a media do bimestre 4: \"))\n",
    "\n",
    "    media_final = (media_1 + media_2 + media_3 + media_4) / 4\n",
    "\n",
    "    if media_final == 10:\n",
    "        print(\"Aprovado com Distinção\")\n",
    "    elif media_final >= 7:\n",
    "        print(\"Aprovado\")\n",
    "    elif media_final >= 4:\n",
    "        print(\"Prova Final\")\n",
    "    else:\n",
    "        print(\"Reprovado\")"
   ]
  },
  {
   "cell_type": "markdown",
   "metadata": {},
   "source": [
    "Recomendo esse material de apoio: [Programático - Ideal para quem ainda não sabe programação](https://programatico.com.br/)"
   ]
  },
  {
   "cell_type": "code",
   "execution_count": 28,
   "metadata": {},
   "outputs": [
    {
     "name": "stdout",
     "output_type": "stream",
     "text": [
      "Impar\n"
     ]
    }
   ],
   "source": [
    "# teste\n",
    "# Escreva um programa que receba um número inteiro e exiba se ele é par ou ímpar.\n",
    "numero = int(input(\"Digite um numero\"))\n",
    "\n",
    "if numero % 2 == 0:\n",
    "    print(\"Par\")\n",
    "else:\n",
    "    print(\"Impar\")\n"
   ]
  },
  {
   "cell_type": "code",
   "execution_count": 32,
   "metadata": {},
   "outputs": [
    {
     "name": "stdout",
     "output_type": "stream",
     "text": [
      "A palavra bem-vindos tem 10 letras\n",
      "A palavra a tem 1 letras\n",
      "A palavra coderhouse tem 10 letras\n"
     ]
    }
   ],
   "source": [
    "# Escreva um programa em Python que solicita ao usuário uma frase e, em seguida, \n",
    "# exibe cada palavra e seu número de caracteres.\n",
    "\n",
    "frase = input(\"Digite uma frase...\")\n",
    "lista_palavras = frase.split(\" \")\n",
    "\n",
    "for i in range(len(lista_palavras)):\n",
    "    print(f\"A palavra {lista_palavras[i]} tem {len(lista_palavras[i])} letras\")"
   ]
  },
  {
   "cell_type": "code",
   "execution_count": 34,
   "metadata": {},
   "outputs": [
    {
     "name": "stdout",
     "output_type": "stream",
     "text": [
      "Bem-vindo\n"
     ]
    }
   ],
   "source": [
    "# Crie um programa em Python que solicita ao usuário uma senha numérica de 4 dígitos. \n",
    "# O programa deve repetir essa solicitação até que o usuário informe a senha correta (1234). \n",
    "\n",
    "senha_correta = \"1234\"\n",
    "senha = input(\"Digite a senha...\")\n",
    "\n",
    "# while senha != senha_correta:\n",
    "#     # Atualização da Variável de Controle\n",
    "#     senha = input(\"Digite a senha...\")\n",
    "\n",
    "while True:\n",
    "    if senha == senha_correta:\n",
    "        break\n",
    "    senha = input(\"Digite a senha...\")\n",
    "\n",
    "print(\"Bem-vindo\")"
   ]
  },
  {
   "cell_type": "markdown",
   "metadata": {},
   "source": [
    "## Desafio\n",
    "\n",
    "Faça um programa que faça 5 perguntas para uma pessoa sobre um crime. As perguntas são:\n",
    "\n",
    "\"Telefonou para a vítima?\"\n",
    "\"Esteve no local do crime?\"\n",
    "\"Mora perto da vítima?\"\n",
    "\"Devia para a vítima?\"\n",
    "\"Já trabalhou com a vítima?\" \n",
    "\n",
    "O programa deve no final emitir uma classificação sobre a participação da pessoa no crime. Se a pessoa responder positivamente a 2 questões ela deve ser classificada como \"Suspeita\", entre 3 e 4 como \"Cúmplice\" e 5 como \"Assassino\". Caso contrário, ele será classificado como \"Inocente\"."
   ]
  },
  {
   "cell_type": "code",
   "execution_count": 1,
   "metadata": {},
   "outputs": [
    {
     "name": "stdout",
     "output_type": "stream",
     "text": [
      "responda as perguntas com sim ou nao\n",
      "assassino\n"
     ]
    }
   ],
   "source": [
    "perguntas = [\"Telefonou para a vítima?\", \"Esteve no local do crime?\", \"Mora perto da vítima?\", \"Devia para a vítima?\", \"Já trabalhou com a vítima?\"]\n",
    "\n",
    "resposta_sim = 0\n",
    "\n",
    "print(\"responda as perguntas com sim ou nao\")\n",
    "\n",
    "for i in range(len(perguntas)):\n",
    "    resposta = input(perguntas[i])\n",
    "    if resposta != \"sim\" and resposta != \"nao\":\n",
    "        break\n",
    "    if resposta == \"sim\":\n",
    "        resposta_sim += 1\n",
    "\n",
    "if resposta_sim == 2:\n",
    "    print ('suspeito')\n",
    "elif resposta_sim == 3 or resposta_sim == 4:\n",
    "    print ('cumplice')   \n",
    "elif resposta_sim == 5:\n",
    "    print ('assassino')\n",
    "else:\n",
    "    print ('inocente')\n",
    "\n",
    "match resposta_sim:\n",
    "    case 2:\n",
    "        print ('suspeito')\n",
    "    case 3 | 4:\n",
    "        print ('cumplice')  \n",
    "    case 5:\n",
    "        print ('assassino')\n",
    "    case _:\n",
    "        print ('inocente')\n",
    "\n",
    "\n"
   ]
  }
 ],
 "metadata": {
  "kernelspec": {
   "display_name": "Python 3",
   "language": "python",
   "name": "python3"
  },
  "language_info": {
   "codemirror_mode": {
    "name": "ipython",
    "version": 3
   },
   "file_extension": ".py",
   "mimetype": "text/x-python",
   "name": "python",
   "nbconvert_exporter": "python",
   "pygments_lexer": "ipython3",
   "version": "3.11.5"
  }
 },
 "nbformat": 4,
 "nbformat_minor": 2
}
