{
 "cells": [
  {
   "cell_type": "markdown",
   "metadata": {},
   "source": [
    "# Programação Orientada a Objetos (POO)\n",
    "\n",
    "## Como é a vida sem OO...\n",
    "\n",
    "Imagine, por exemplo, que você está escrevendo um programa para exibir informações sobre formas geométricas na tela do computador. Para exibir a área de cada forma geométrica, suponha que exista uma função que detecta qual é a forma e outra que realiza o cálculo:"
   ]
  },
  {
   "cell_type": "code",
   "execution_count": 1,
   "metadata": {},
   "outputs": [
    {
     "name": "stdout",
     "output_type": "stream",
     "text": [
      "Area do circulo\n",
      "Area do quadrado\n"
     ]
    }
   ],
   "source": [
    "formas_geometricas = [\"circulo\", \"quadrado\"]\n",
    "\n",
    "def circulo(forma):\n",
    "    return forma == \"circulo\"\n",
    "\n",
    "def quadrado(forma):\n",
    "    return forma == \"quadrado\"\n",
    "\n",
    "def area_circulo():\n",
    "    print(\"Area do circulo\")\n",
    "\n",
    "def area_quadrado():\n",
    "    print(\"Area do quadrado\")\n",
    "\n",
    "for forma_geom in formas_geometricas:\n",
    "    if circulo(forma_geom):\n",
    "        area_circulo()\n",
    "    elif quadrado(forma_geom):\n",
    "        area_quadrado()"
   ]
  },
  {
   "cell_type": "markdown",
   "metadata": {},
   "source": [
    "Se precisarmos estender o programa para exibir outros tipos de formas geométricas como triângulos, retangulos e elipses, o nosso código fatalmente ficaria assim:"
   ]
  },
  {
   "cell_type": "code",
   "execution_count": null,
   "metadata": {},
   "outputs": [],
   "source": [
    "formas_geometricas.append(\"triangulo\")\n",
    "formas_geometricas.append(\"retangulo\")\n",
    "formas_geometricas.append(\"elipse\")\n",
    "\n",
    "def triangulo(forma):\n",
    "    return forma == \"triangulo\"\n",
    "\n",
    "def retangulo(forma):\n",
    "    return forma == \"retangulo\" \n",
    "\n",
    "def elipse(forma):\n",
    "    return forma == \"elipse\"\n",
    "\n",
    "def area_triangulo():\n",
    "    print(\"Area do triangulo\")\n",
    "\n",
    "def area_retangulo():\n",
    "    print(\"Area do retangulo\")  \n",
    "\n",
    "def area_elipse():\n",
    "    print(\"Area da elipse\")\n",
    "\n",
    "for forma_geom in formas_geometricas:\n",
    "    if circulo(forma_geom):\n",
    "        area_circulo()\n",
    "    elif quadrado(forma_geom):\n",
    "        area_quadrado()\n",
    "    elif triangulo(forma_geom):\n",
    "        area_triangulo()\n",
    "    elif retangulo(forma_geom):\n",
    "        area_retangulo()\n",
    "    elif elipse(forma_geom):\n",
    "        area_elipse()"
   ]
  },
  {
   "cell_type": "markdown",
   "metadata": {},
   "source": [
    "Toda vez que o programa tem que exibir um novo tipo de forma geométrica, precisamos fazer duas coisas: criar a funcionalidade para exibir a nova forma geométrica, e modificar o programa principal (que percorre a lista de formas e as exibe na tela), alterando os comandos if e elif para adicionar uma nova forma."
   ]
  },
  {
   "cell_type": "markdown",
   "metadata": {},
   "source": [
    "Seria muito mais vantajoso ter uma forma de abstrair o problema de identificar qual a forma geométrica e assim realizar o cálculo da área corretamente, mais ou menos assim:"
   ]
  },
  {
   "cell_type": "code",
   "execution_count": null,
   "metadata": {},
   "outputs": [],
   "source": [
    "for forma_geom in formas_geometricas:\n",
    "    forma_geom.area()"
   ]
  },
  {
   "cell_type": "markdown",
   "metadata": {},
   "source": [
    "Com Orientação a Objetos isso é perfeitamente possível! Vamos entender os quatro pilares desse novo jeito de solucionar problemas com programação.\n",
    "\n",
    "## Primeiro Pilar: Abstração \n",
    "\n",
    "Por meio dos objetos podemos armazenar um estado e comportamentos associados a esse estado. Objetos possuem um tipo, uma representação interna (campos), e provêm uma interface (métodos). As informações (campos) de um objeto são chamadas de atributos do objeto, e as operações realizadas sobre o objeto são chamadas métodos do objeto/classe. "
   ]
  },
  {
   "cell_type": "code",
   "execution_count": 10,
   "metadata": {},
   "outputs": [
    {
     "name": "stdout",
     "output_type": "stream",
     "text": [
      "Círculo de raio 5\n",
      "78.539816325\n",
      "<class '__main__.Circulo'>\n",
      "Círculo de raio 10\n",
      "314.1592653\n"
     ]
    }
   ],
   "source": [
    "# exemplo\n",
    "class Circulo:\n",
    "    def __init__(self, raio):\n",
    "        self.raio = raio\n",
    "    \n",
    "    def area(self):\n",
    "        pi = 3.141592653\n",
    "        return pi * (self.raio**2)\n",
    "    \n",
    "    def imprime(self):\n",
    "        print(f\"Círculo de raio {self.raio}\")\n",
    "\n",
    "circulo = Circulo(5) # ou Circulo(raio=5)\n",
    "circulo.imprime()\n",
    "print(circulo.area())\n",
    "print(type(circulo))\n",
    "\n",
    "circulo2 = Circulo(10)\n",
    "circulo2.imprime()\n",
    "print(circulo2.area())\n"
   ]
  },
  {
   "cell_type": "markdown",
   "metadata": {},
   "source": [
    "## Segundo Pilar: Herança\n",
    "\n",
    "Com a solução anterior ainda precisamos fazer if/else pra entender de qual forma geométrica estamos falando. Para abstrair ainda mais as características em comum, vamos criar uma classe superior em hierarquia que junte tudo isso, e vamos fazer as demais herdarem essas características. "
   ]
  },
  {
   "cell_type": "code",
   "execution_count": 13,
   "metadata": {},
   "outputs": [
    {
     "name": "stdout",
     "output_type": "stream",
     "text": [
      "Círculo de raio 5\n",
      "78.539816325\n",
      "<class '__main__.Circulo'>\n",
      "Círculo de raio 10\n",
      "314.1592653\n",
      "25\n",
      "5\n"
     ]
    }
   ],
   "source": [
    "# exemplo\n",
    "class FormaGeometrica():\n",
    "    def area(self):\n",
    "        pass\n",
    "\n",
    "    def imprime(self):\n",
    "        pass\n",
    "\n",
    "class Circulo(FormaGeometrica):\n",
    "    def __init__(self, raio):\n",
    "        self.raio = raio\n",
    "    \n",
    "    def area(self):\n",
    "        pi = 3.141592653\n",
    "        return pi * (self.raio**2)\n",
    "    \n",
    "    def imprime(self):\n",
    "        print(f\"Círculo de raio {self.raio}\")\n",
    "\n",
    "circulo = Circulo(5) # ou Circulo(raio=5)\n",
    "circulo.imprime()\n",
    "print(circulo.area())\n",
    "print(type(circulo))\n",
    "\n",
    "circulo2 = Circulo(10)\n",
    "circulo2.imprime()\n",
    "print(circulo2.area())\n",
    "\n",
    "class Quadrado(FormaGeometrica):\n",
    "    def __init__(self, lado):\n",
    "        self.lado = lado\n",
    "\n",
    "    def area(self):\n",
    "        return self.lado ** 2\n",
    "    \n",
    "    def imprime(self):\n",
    "        print(f\"Quadrado de lado {self.lado}\")\n",
    "\n",
    "quadrado = Quadrado(lado=5)\n",
    "print(quadrado.area())\n",
    "print(quadrado.lado)"
   ]
  },
  {
   "cell_type": "markdown",
   "metadata": {},
   "source": [
    "## Terceiro Pilar: Encapsulamento\n",
    "\n",
    "Há uma convenção de que os dados de atributos não deveriam ser acessados diretamente, como no exemplo que imprimimos o lado do quadrado apenas chamando `obj_quadrado.lado`. Em Python, existe uma convenção de que dados ou métodos cujo nome começa com __ (dois underscores) não deveriam ser acessados fora da classe, como ilustrado no exemplo abaixo. "
   ]
  },
  {
   "cell_type": "code",
   "execution_count": 16,
   "metadata": {},
   "outputs": [
    {
     "name": "stdout",
     "output_type": "stream",
     "text": [
      "Fiat\n",
      "Marca: Fiat, Modelo: Uno\n"
     ]
    }
   ],
   "source": [
    "# exemplo\n",
    "class Veiculo:\n",
    "    def __init__(self, marca, modelo):\n",
    "        self.__marca = marca\n",
    "        self.__modelo = modelo\n",
    "\n",
    "    def mostrar_detalhes(self):\n",
    "        print(f\"Marca: {self.marca}, Modelo: {self.modelo}\")\n",
    "\n",
    "carro = Veiculo(\"Ford\", \"Fusion\")\n",
    "carro.marca = \"Fiat\"\n",
    "carro.modelo = \"Uno\"\n",
    "\n",
    "print(carro.marca)\n",
    "\n",
    "carro.mostrar_detalhes()"
   ]
  },
  {
   "cell_type": "markdown",
   "metadata": {},
   "source": [
    "Para garantir que certas variáveis de uma classe não sejam alteradas basta usar o decorador @property, que nos permite restringir acesso a variáveis de uma classe. "
   ]
  },
  {
   "cell_type": "code",
   "execution_count": 20,
   "metadata": {},
   "outputs": [
    {
     "name": "stdout",
     "output_type": "stream",
     "text": [
      "Ford\n"
     ]
    },
    {
     "ename": "ValueError",
     "evalue": "A marca não pode ser alterada",
     "output_type": "error",
     "traceback": [
      "\u001b[1;31m---------------------------------------------------------------------------\u001b[0m",
      "\u001b[1;31mValueError\u001b[0m                                Traceback (most recent call last)",
      "Cell \u001b[1;32mIn[20], line 21\u001b[0m\n\u001b[0;32m     18\u001b[0m carro \u001b[38;5;241m=\u001b[39m Veiculo(\u001b[38;5;124m\"\u001b[39m\u001b[38;5;124mFord\u001b[39m\u001b[38;5;124m\"\u001b[39m, \u001b[38;5;124m\"\u001b[39m\u001b[38;5;124mFusion\u001b[39m\u001b[38;5;124m\"\u001b[39m)\n\u001b[0;32m     19\u001b[0m \u001b[38;5;28mprint\u001b[39m(carro\u001b[38;5;241m.\u001b[39mmarca)\n\u001b[1;32m---> 21\u001b[0m \u001b[43mcarro\u001b[49m\u001b[38;5;241;43m.\u001b[39;49m\u001b[43mmarca\u001b[49m \u001b[38;5;241m=\u001b[39m \u001b[38;5;124m\"\u001b[39m\u001b[38;5;124mFiat\u001b[39m\u001b[38;5;124m\"\u001b[39m\n\u001b[0;32m     22\u001b[0m carro\u001b[38;5;241m.\u001b[39mmodelo \u001b[38;5;241m=\u001b[39m \u001b[38;5;124m\"\u001b[39m\u001b[38;5;124mUno\u001b[39m\u001b[38;5;124m\"\u001b[39m\n\u001b[0;32m     25\u001b[0m carro\u001b[38;5;241m.\u001b[39mmostrar_detalhes()\n",
      "Cell \u001b[1;32mIn[20], line 13\u001b[0m, in \u001b[0;36mVeiculo.marca\u001b[1;34m(self, nova_marca)\u001b[0m\n\u001b[0;32m     11\u001b[0m \u001b[38;5;129m@marca\u001b[39m\u001b[38;5;241m.\u001b[39msetter\n\u001b[0;32m     12\u001b[0m \u001b[38;5;28;01mdef\u001b[39;00m \u001b[38;5;21mmarca\u001b[39m(\u001b[38;5;28mself\u001b[39m, nova_marca):\n\u001b[1;32m---> 13\u001b[0m     \u001b[38;5;28;01mraise\u001b[39;00m \u001b[38;5;167;01mValueError\u001b[39;00m(\u001b[38;5;124m\"\u001b[39m\u001b[38;5;124mA marca não pode ser alterada\u001b[39m\u001b[38;5;124m\"\u001b[39m)\n",
      "\u001b[1;31mValueError\u001b[0m: A marca não pode ser alterada"
     ]
    }
   ],
   "source": [
    "# exemplo\n",
    "class Veiculo:\n",
    "    def __init__(self, marca, modelo):\n",
    "        self.__marca = marca\n",
    "        self.__modelo = modelo\n",
    "\n",
    "    @property\n",
    "    def marca(self):\n",
    "        return self.__marca\n",
    "    \n",
    "    @marca.setter\n",
    "    def marca(self, nova_marca):\n",
    "        raise ValueError(\"A marca não pode ser alterada\")\n",
    "\n",
    "    def mostrar_detalhes(self):\n",
    "        print(f\"Marca: {self.marca}, Modelo: {self.__modelo}\")\n",
    "\n",
    "carro = Veiculo(\"Ford\", \"Fusion\")\n",
    "print(carro.marca)\n",
    "\n",
    "carro.marca = \"Fiat\"\n",
    "carro.modelo = \"Uno\"\n",
    "\n",
    "\n",
    "carro.mostrar_detalhes()"
   ]
  },
  {
   "cell_type": "markdown",
   "metadata": {},
   "source": [
    "## Quarto Pilar: Polimorfismo\n",
    "\n",
    "Agora vamos abstrair ainda mais o que há em comum entre duas classes para ter comportamentos diferentes com o mesmo tipo. Reutilizando o último exemplo do veículo, teríamos o seguinte para Carro e Moto: "
   ]
  },
  {
   "cell_type": "code",
   "execution_count": 21,
   "metadata": {},
   "outputs": [
    {
     "name": "stdout",
     "output_type": "stream",
     "text": [
      "Marca: Ford, Modelo: Fusion\n",
      "Marca: Honda, Modelo: CBR\n"
     ]
    }
   ],
   "source": [
    "# exemplo\n",
    "class Carro(Veiculo):\n",
    "    def __init__(self, marca, modelo, portas):\n",
    "        super().__init__(marca, modelo)\n",
    "        self.portas = portas\n",
    "\n",
    "class Moto(Veiculo):\n",
    "    def __init__(self, marca, modelo, cilindradas):\n",
    "        super().__init__(marca, modelo)\n",
    "        self.cilindradas = cilindradas\n",
    "\n",
    "carro = Carro(\"Ford\", \"Fusion\", 4)\n",
    "moto = Moto(\"Honda\", \"CBR\", 650)\n",
    "\n",
    "def mostrar_informacoes_veiculo(veiculo):\n",
    "    veiculo.mostrar_detalhes()\n",
    "\n",
    "mostrar_informacoes_veiculo(carro)\n",
    "mostrar_informacoes_veiculo(moto)"
   ]
  },
  {
   "cell_type": "markdown",
   "metadata": {},
   "source": [
    "Como ficaria para o exemplo das formas geométricas ?"
   ]
  },
  {
   "cell_type": "code",
   "execution_count": 22,
   "metadata": {},
   "outputs": [
    {
     "name": "stdout",
     "output_type": "stream",
     "text": [
      "78.539816325\n",
      "25\n"
     ]
    }
   ],
   "source": [
    "# solução\n",
    "formas = [circulo, quadrado]\n",
    "\n",
    "for forma in formas:\n",
    "    print(forma.area())"
   ]
  },
  {
   "cell_type": "code",
   "execution_count": 23,
   "metadata": {},
   "outputs": [
    {
     "name": "stdout",
     "output_type": "stream",
     "text": [
      "O dobro de 10 é 20\n"
     ]
    }
   ],
   "source": [
    "# extra: uso de bibliotecas\n",
    "from utils import mostra_dobro\n",
    "\n",
    "mostra_dobro(10)"
   ]
  },
  {
   "cell_type": "code",
   "execution_count": 26,
   "metadata": {},
   "outputs": [],
   "source": [
    "# Crie uma classe Retangulo que tenha os atributos \n",
    "# base e altura e os métodos area() e perimetro(). Crie um objeto e teste os métodos.\n",
    "# class Retangulo:\n",
    "#     def __init__(self, altura, largura):\n",
    "#         self.altura = altura\n",
    "#         self.largura = largura    \n",
    "\n",
    "#     def area(self):\n",
    "#         return self.altura * self.largura\n",
    "\n",
    "#     def perimetro(self):\n",
    "#         return 2 * (self.altura + self.largura)\n",
    "\n",
    "#     def imprime(self):\n",
    "#         print(f\"Retangulo de altura {self.altura} e largura {self.largura} tem area {self.area()} e perimetro {self.perimetro()}\")\n",
    "\n",
    "# retangulo = Retangulo(5, 10)\n",
    "\n",
    "# retangulo.imprime()"
   ]
  },
  {
   "cell_type": "code",
   "execution_count": 27,
   "metadata": {},
   "outputs": [
    {
     "name": "stdout",
     "output_type": "stream",
     "text": [
      "Retangulo de altura 5 e largura 10 tem area 50 e perimetro 30\n"
     ]
    }
   ],
   "source": [
    "# Crie um arquivo chamado geometria.py e salve a classe Retangulo dentro desse arquivo. \n",
    "# Importe a classe de algum outro arquivo e realize testes.\n",
    "from geometria import Retangulo\n",
    "\n",
    "retangulo = Retangulo(5, 10)\n",
    "\n",
    "retangulo.imprime()"
   ]
  },
  {
   "cell_type": "code",
   "execution_count": 42,
   "metadata": {},
   "outputs": [
    {
     "ename": "SyntaxError",
     "evalue": "'function call' is an illegal expression for augmented assignment (2003580140.py, line 67)",
     "output_type": "error",
     "traceback": [
      "\u001b[1;36m  Cell \u001b[1;32mIn[42], line 67\u001b[1;36m\u001b[0m\n\u001b[1;33m    self.saldo() += 1\u001b[0m\n\u001b[1;37m    ^\u001b[0m\n\u001b[1;31mSyntaxError\u001b[0m\u001b[1;31m:\u001b[0m 'function call' is an illegal expression for augmented assignment\n"
     ]
    }
   ],
   "source": [
    "# Crie uma classe Conta que tenha os atributos saldo e titular e os métodos depositar() e sacar(). \n",
    "# Em seguida, instancie essa classe com um saldo inicial e realize algumas operações de depósito \n",
    "# e saque para verificar se o saldo está sendo atualizado corretamente.\n",
    "\n",
    "# class Conta:\n",
    "#     def __init__(self, saldo, titular):\n",
    "#         self.saldo = saldo\n",
    "#         self.titular = titular\n",
    "\n",
    "#     def depositar(self, valor):\n",
    "#         self.saldo += valor\n",
    "\n",
    "#     def sacar(self, valor):\n",
    "#         self.saldo -= valor\n",
    "\n",
    "# conta_do_ramon = Conta(5000, \"Ramon\")\n",
    "\n",
    "# conta_do_ramon.depositar(1000)\n",
    "\n",
    "# print(f\"Saldo antes do saque: {conta_do_ramon.saldo}\")\n",
    "\n",
    "# conta_do_ramon.sacar(2000)\n",
    "\n",
    "# print(f\"Saldo depois do saque: {conta_do_ramon.saldo}\")\n",
    "\n",
    "# DESAFIO: Adicione a classe Conta o método saldo() que exibe o saldo da conta. \n",
    "# Em seguida, crie a classe ContaPoupanca que tem um rendimento de 1 real a cada vez que \n",
    "# é chamado o método extrato().\n",
    "\n",
    "class Conta:\n",
    "    def __init__(self, saldo, titular):\n",
    "        self.saldo = saldo\n",
    "        self.titular = titular\n",
    "\n",
    "    # @property\n",
    "    # def saldo(self):\n",
    "    #     return self.saldo\n",
    "    \n",
    "    # @saldo.setter\n",
    "    # def saldo(self, novo_saldo):\n",
    "    #     raise ValueError(\"O saldo não pode ser alterado\")\n",
    "    \n",
    "    def extrato(self):\n",
    "        return f\"Saldo: {self.saldo}\"\n",
    "\n",
    "    def depositar(self, valor):\n",
    "        self.saldo += valor\n",
    "\n",
    "    def sacar(self, valor):\n",
    "        self.saldo -= valor\n",
    "\n",
    "conta_do_ramon = Conta(5000, \"Ramon\")\n",
    "\n",
    "conta_do_ramon.depositar(1000)\n",
    "\n",
    "print(f\"Saldo antes do saque: {conta_do_ramon.saldo}\")\n",
    "\n",
    "conta_do_ramon.sacar(2000)\n",
    "\n",
    "print(f\"Saldo depois do saque: {conta_do_ramon.saldo}\")\n",
    "\n",
    "class ContaPoupanca(Conta):\n",
    "    def __init__(self, saldo, titular):\n",
    "        super().__init__(saldo, titular)\n",
    "\n",
    "    def extrato(self):\n",
    "        self.saldo += 1\n",
    "        return f\"Saldo: {self.saldo}\"\n",
    "\n",
    "# conta_do_ramon.saldo = 1000000 error\n",
    "\n",
    "poupanca_do_ramon = ContaPoupanca(100, \"Ramon\")\n",
    "\n",
    "poupanca_do_ramon.extrato()\n",
    "poupanca_do_ramon.extrato()\n",
    "poupanca_do_ramon.extrato()\n",
    "poupanca_do_ramon.extrato()\n",
    "poupanca_do_ramon.extrato()\n"
   ]
  }
 ],
 "metadata": {
  "kernelspec": {
   "display_name": "Python 3",
   "language": "python",
   "name": "python3"
  },
  "language_info": {
   "codemirror_mode": {
    "name": "ipython",
    "version": 3
   },
   "file_extension": ".py",
   "mimetype": "text/x-python",
   "name": "python",
   "nbconvert_exporter": "python",
   "pygments_lexer": "ipython3",
   "version": "3.11.5"
  }
 },
 "nbformat": 4,
 "nbformat_minor": 2
}
