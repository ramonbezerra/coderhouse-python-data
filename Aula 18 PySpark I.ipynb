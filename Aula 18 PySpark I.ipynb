{
 "cells": [
  {
   "cell_type": "markdown",
   "metadata": {},
   "source": [
    "# PySpark I\n",
    "\n",
    "## Configurações Básicas"
   ]
  },
  {
   "cell_type": "code",
   "execution_count": 11,
   "metadata": {},
   "outputs": [
    {
     "data": {
      "text/plain": [
       "<pyspark.conf.SparkConf at 0x1cfa736bf50>"
      ]
     },
     "execution_count": 11,
     "metadata": {},
     "output_type": "execute_result"
    }
   ],
   "source": [
    "from pyspark.sql import SparkSession\n",
    "import pyspark as ps\n",
    "\n",
    "spark = SparkSession.builder.appName(\"MyApp\").config(\"spark.some.config.option\", \"some-value\").getOrCreate()\n",
    "\n",
    "conf = ps.SparkConf().setMaster(\"local[*]\").setAppName(\"MyApp\") # simulação de clusters com threads do processador\n",
    "conf.set(\"spark.executor.heartbeatInterval\", \"3600s\")"
   ]
  },
  {
   "cell_type": "markdown",
   "metadata": {},
   "source": [
    "## Consultando a versão"
   ]
  },
  {
   "cell_type": "code",
   "execution_count": 12,
   "metadata": {},
   "outputs": [
    {
     "data": {
      "text/plain": [
       "'3.5.3'"
      ]
     },
     "execution_count": 12,
     "metadata": {},
     "output_type": "execute_result"
    }
   ],
   "source": [
    "spark.version"
   ]
  },
  {
   "cell_type": "markdown",
   "metadata": {},
   "source": [
    "## Carregando dados"
   ]
  },
  {
   "cell_type": "code",
   "execution_count": 13,
   "metadata": {},
   "outputs": [
    {
     "data": {
      "text/plain": [
       "DataFrame[symbol: string, name: string, exchange: string, assetType: string, ipoDate: string, delistingDate: string, status: string]"
      ]
     },
     "execution_count": 13,
     "metadata": {},
     "output_type": "execute_result"
    }
   ],
   "source": [
    "df_spark = spark.read.format(\"csv\").option(\"header\", \"true\").load(\"listing_status.csv\")\n",
    "df_spark"
   ]
  },
  {
   "cell_type": "code",
   "execution_count": 17,
   "metadata": {},
   "outputs": [
    {
     "name": "stdout",
     "output_type": "stream",
     "text": [
      "+-------+-------------------------------------------------------------------+---------+---------+----------+-------------+------+\n",
      "|symbol |name                                                               |exchange |assetType|ipoDate   |delistingDate|status|\n",
      "+-------+-------------------------------------------------------------------+---------+---------+----------+-------------+------+\n",
      "|A      |Agilent Technologies Inc                                           |NYSE     |Stock    |1999-11-18|null         |Active|\n",
      "|AA     |Alcoa Corp                                                         |NYSE     |Stock    |2016-10-18|null         |Active|\n",
      "|AAA    |ALTERNATIVE ACCESS FIRST PRIORITY CLO BOND ETF                     |NYSE ARCA|ETF      |2020-09-09|null         |Active|\n",
      "|AAAU   |Goldman Sachs Physical Gold ETF                                    |BATS     |ETF      |2018-08-15|null         |Active|\n",
      "|AACG   |ATA Creativity Global                                              |NASDAQ   |Stock    |2008-01-29|null         |Active|\n",
      "|AACT   |Ares Acquisition Corporation II - Class A                          |NYSE     |Stock    |2023-06-12|null         |Active|\n",
      "|AACT-U |Ares Acquisition Corporation II - Units (1 Ord Class A & 1/2 War)  |NYSE     |Stock    |2023-04-21|null         |Active|\n",
      "|AACT-WS|Ares Acquisition Corporation II - Warrants (01/01/9999)            |NYSE     |Stock    |2023-06-12|null         |Active|\n",
      "|AADI   |Aadi Bioscience Inc                                                |NASDAQ   |Stock    |2017-08-08|null         |Active|\n",
      "|AADR   |ADVISORSHARES DORSEY WRIGHT ADR ETF                                |NASDAQ   |ETF      |2010-07-21|null         |Active|\n",
      "|AAGR   |African Agriculture Holdings Inc                                   |NASDAQ   |Stock    |2023-12-07|null         |Active|\n",
      "|AAGRW  |African Agriculture Holdings Inc - Warrants (06/12/2028)           |NASDAQ   |Stock    |2023-12-07|null         |Active|\n",
      "|AAL    |American Airlines Group Inc                                        |NASDAQ   |Stock    |2005-09-27|null         |Active|\n",
      "|AAM-U  |AA Mission Acquisition Corp - Units (1 Ord Share Class A & 1/2 War)|NYSE     |Stock    |2024-08-01|null         |Active|\n",
      "|AAMC   |Altisource Asset Management Corp                                   |NYSE MKT |Stock    |2012-12-13|null         |Active|\n",
      "|AAME   |Atlantic American Corp                                             |NASDAQ   |Stock    |1984-09-07|null         |Active|\n",
      "|AAN    |Aarons Company Inc (The)                                           |NYSE     |Stock    |2020-11-25|null         |Active|\n",
      "|AAOI   |Applied Optoelectronics Inc                                        |NASDAQ   |Stock    |2013-09-26|null         |Active|\n",
      "|AAON   |AAON Inc                                                           |NASDAQ   |Stock    |1992-12-16|null         |Active|\n",
      "|AAP    |Advance Auto Parts Inc                                             |NYSE     |Stock    |2001-11-29|null         |Active|\n",
      "+-------+-------------------------------------------------------------------+---------+---------+----------+-------------+------+\n",
      "only showing top 20 rows\n",
      "\n"
     ]
    }
   ],
   "source": [
    "df_spark.show(20, truncate=False)"
   ]
  },
  {
   "cell_type": "code",
   "execution_count": 18,
   "metadata": {},
   "outputs": [
    {
     "data": {
      "text/html": [
       "<div>\n",
       "<style scoped>\n",
       "    .dataframe tbody tr th:only-of-type {\n",
       "        vertical-align: middle;\n",
       "    }\n",
       "\n",
       "    .dataframe tbody tr th {\n",
       "        vertical-align: top;\n",
       "    }\n",
       "\n",
       "    .dataframe thead th {\n",
       "        text-align: right;\n",
       "    }\n",
       "</style>\n",
       "<table border=\"1\" class=\"dataframe\">\n",
       "  <thead>\n",
       "    <tr style=\"text-align: right;\">\n",
       "      <th></th>\n",
       "      <th>symbol</th>\n",
       "      <th>name</th>\n",
       "      <th>exchange</th>\n",
       "      <th>assetType</th>\n",
       "      <th>ipoDate</th>\n",
       "      <th>delistingDate</th>\n",
       "      <th>status</th>\n",
       "    </tr>\n",
       "  </thead>\n",
       "  <tbody>\n",
       "    <tr>\n",
       "      <th>0</th>\n",
       "      <td>A</td>\n",
       "      <td>Agilent Technologies Inc</td>\n",
       "      <td>NYSE</td>\n",
       "      <td>Stock</td>\n",
       "      <td>1999-11-18</td>\n",
       "      <td>null</td>\n",
       "      <td>Active</td>\n",
       "    </tr>\n",
       "    <tr>\n",
       "      <th>1</th>\n",
       "      <td>AA</td>\n",
       "      <td>Alcoa Corp</td>\n",
       "      <td>NYSE</td>\n",
       "      <td>Stock</td>\n",
       "      <td>2016-10-18</td>\n",
       "      <td>null</td>\n",
       "      <td>Active</td>\n",
       "    </tr>\n",
       "    <tr>\n",
       "      <th>2</th>\n",
       "      <td>AAA</td>\n",
       "      <td>ALTERNATIVE ACCESS FIRST PRIORITY CLO BOND ETF</td>\n",
       "      <td>NYSE ARCA</td>\n",
       "      <td>ETF</td>\n",
       "      <td>2020-09-09</td>\n",
       "      <td>null</td>\n",
       "      <td>Active</td>\n",
       "    </tr>\n",
       "    <tr>\n",
       "      <th>3</th>\n",
       "      <td>AAAU</td>\n",
       "      <td>Goldman Sachs Physical Gold ETF</td>\n",
       "      <td>BATS</td>\n",
       "      <td>ETF</td>\n",
       "      <td>2018-08-15</td>\n",
       "      <td>null</td>\n",
       "      <td>Active</td>\n",
       "    </tr>\n",
       "    <tr>\n",
       "      <th>4</th>\n",
       "      <td>AACG</td>\n",
       "      <td>ATA Creativity Global</td>\n",
       "      <td>NASDAQ</td>\n",
       "      <td>Stock</td>\n",
       "      <td>2008-01-29</td>\n",
       "      <td>null</td>\n",
       "      <td>Active</td>\n",
       "    </tr>\n",
       "  </tbody>\n",
       "</table>\n",
       "</div>"
      ],
      "text/plain": [
       "  symbol                                             name   exchange  \\\n",
       "0      A                         Agilent Technologies Inc       NYSE   \n",
       "1     AA                                       Alcoa Corp       NYSE   \n",
       "2    AAA  ALTERNATIVE ACCESS FIRST PRIORITY CLO BOND ETF   NYSE ARCA   \n",
       "3   AAAU                  Goldman Sachs Physical Gold ETF       BATS   \n",
       "4   AACG                            ATA Creativity Global     NASDAQ   \n",
       "\n",
       "  assetType     ipoDate delistingDate  status  \n",
       "0     Stock  1999-11-18          null  Active  \n",
       "1     Stock  2016-10-18          null  Active  \n",
       "2       ETF  2020-09-09          null  Active  \n",
       "3       ETF  2018-08-15          null  Active  \n",
       "4     Stock  2008-01-29          null  Active  "
      ]
     },
     "execution_count": 18,
     "metadata": {},
     "output_type": "execute_result"
    }
   ],
   "source": [
    "df_pd = df_spark.toPandas()\n",
    "\n",
    "df_pd.head()"
   ]
  },
  {
   "cell_type": "code",
   "execution_count": 19,
   "metadata": {},
   "outputs": [
    {
     "name": "stdout",
     "output_type": "stream",
     "text": [
      "+-------+-----------------------------------------------------------------+---------+---------+----------+-------------+------+\n",
      "|symbol |name                                                             |exchange |assetType|ipoDate   |delistingDate|status|\n",
      "+-------+-----------------------------------------------------------------+---------+---------+----------+-------------+------+\n",
      "|A      |Agilent Technologies Inc                                         |NYSE     |Stock    |1999-11-18|null         |Active|\n",
      "|AA     |Alcoa Corp                                                       |NYSE     |Stock    |2016-10-18|null         |Active|\n",
      "|AAA    |ALTERNATIVE ACCESS FIRST PRIORITY CLO BOND ETF                   |NYSE ARCA|ETF      |2020-09-09|null         |Active|\n",
      "|AAAU   |Goldman Sachs Physical Gold ETF                                  |BATS     |ETF      |2018-08-15|null         |Active|\n",
      "|AACG   |ATA Creativity Global                                            |NASDAQ   |Stock    |2008-01-29|null         |Active|\n",
      "|AACT   |Ares Acquisition Corporation II - Class A                        |NYSE     |Stock    |2023-06-12|null         |Active|\n",
      "|AACT-U |Ares Acquisition Corporation II - Units (1 Ord Class A & 1/2 War)|NYSE     |Stock    |2023-04-21|null         |Active|\n",
      "|AACT-WS|Ares Acquisition Corporation II - Warrants (01/01/9999)          |NYSE     |Stock    |2023-06-12|null         |Active|\n",
      "|AADI   |Aadi Bioscience Inc                                              |NASDAQ   |Stock    |2017-08-08|null         |Active|\n",
      "|AADR   |ADVISORSHARES DORSEY WRIGHT ADR ETF                              |NASDAQ   |ETF      |2010-07-21|null         |Active|\n",
      "+-------+-----------------------------------------------------------------+---------+---------+----------+-------------+------+\n",
      "only showing top 10 rows\n",
      "\n"
     ]
    }
   ],
   "source": [
    "df_spark2 = spark.createDataFrame(df_pd)\n",
    "df_spark2.show(10, truncate=False)"
   ]
  },
  {
   "cell_type": "markdown",
   "metadata": {},
   "source": [
    "## Operações básicas"
   ]
  },
  {
   "cell_type": "code",
   "execution_count": 20,
   "metadata": {},
   "outputs": [
    {
     "name": "stdout",
     "output_type": "stream",
     "text": [
      "+-------+--------------------+---------+---------+----------+------+\n",
      "| symbol|                name| exchange|assetType|   ipoDate|status|\n",
      "+-------+--------------------+---------+---------+----------+------+\n",
      "|      A|Agilent Technolog...|     NYSE|    Stock|1999-11-18|Active|\n",
      "|     AA|          Alcoa Corp|     NYSE|    Stock|2016-10-18|Active|\n",
      "|    AAA|ALTERNATIVE ACCES...|NYSE ARCA|      ETF|2020-09-09|Active|\n",
      "|   AAAU|Goldman Sachs Phy...|     BATS|      ETF|2018-08-15|Active|\n",
      "|   AACG|ATA Creativity Gl...|   NASDAQ|    Stock|2008-01-29|Active|\n",
      "|   AACT|Ares Acquisition ...|     NYSE|    Stock|2023-06-12|Active|\n",
      "| AACT-U|Ares Acquisition ...|     NYSE|    Stock|2023-04-21|Active|\n",
      "|AACT-WS|Ares Acquisition ...|     NYSE|    Stock|2023-06-12|Active|\n",
      "|   AADI| Aadi Bioscience Inc|   NASDAQ|    Stock|2017-08-08|Active|\n",
      "|   AADR|ADVISORSHARES DOR...|   NASDAQ|      ETF|2010-07-21|Active|\n",
      "+-------+--------------------+---------+---------+----------+------+\n",
      "only showing top 10 rows\n",
      "\n"
     ]
    }
   ],
   "source": [
    "df_spark_mod = df_spark.drop('delistingDate')\n",
    "df_spark_mod.show(10)"
   ]
  },
  {
   "cell_type": "code",
   "execution_count": 21,
   "metadata": {},
   "outputs": [
    {
     "name": "stdout",
     "output_type": "stream",
     "text": [
      "+-------+---------+---------+----------+\n",
      "| symbol| exchange|assetType|   ipoDate|\n",
      "+-------+---------+---------+----------+\n",
      "|      A|     NYSE|    Stock|1999-11-18|\n",
      "|     AA|     NYSE|    Stock|2016-10-18|\n",
      "|    AAA|NYSE ARCA|      ETF|2020-09-09|\n",
      "|   AAAU|     BATS|      ETF|2018-08-15|\n",
      "|   AACG|   NASDAQ|    Stock|2008-01-29|\n",
      "|   AACT|     NYSE|    Stock|2023-06-12|\n",
      "| AACT-U|     NYSE|    Stock|2023-04-21|\n",
      "|AACT-WS|     NYSE|    Stock|2023-06-12|\n",
      "|   AADI|   NASDAQ|    Stock|2017-08-08|\n",
      "|   AADR|   NASDAQ|      ETF|2010-07-21|\n",
      "+-------+---------+---------+----------+\n",
      "only showing top 10 rows\n",
      "\n"
     ]
    }
   ],
   "source": [
    "df_spark_mod = df_spark_mod.select('symbol', 'exchange', 'assetType', 'ipoDate')\n",
    "df_spark_mod.show(10)"
   ]
  },
  {
   "cell_type": "code",
   "execution_count": 27,
   "metadata": {},
   "outputs": [
    {
     "name": "stdout",
     "output_type": "stream",
     "text": [
      "+-------+--------+---------+----------+\n",
      "| symbol|exchange|assetType|   ipoDate|\n",
      "+-------+--------+---------+----------+\n",
      "|      A|    NYSE|    Stock|1999-11-18|\n",
      "|     AA|    NYSE|    Stock|2016-10-18|\n",
      "|   AACG|  NASDAQ|    Stock|2008-01-29|\n",
      "|   AACT|    NYSE|    Stock|2023-06-12|\n",
      "| AACT-U|    NYSE|    Stock|2023-04-21|\n",
      "|AACT-WS|    NYSE|    Stock|2023-06-12|\n",
      "|   AADI|  NASDAQ|    Stock|2017-08-08|\n",
      "|   AAGR|  NASDAQ|    Stock|2023-12-07|\n",
      "|  AAGRW|  NASDAQ|    Stock|2023-12-07|\n",
      "|    AAL|  NASDAQ|    Stock|2005-09-27|\n",
      "+-------+--------+---------+----------+\n",
      "only showing top 10 rows\n",
      "\n"
     ]
    }
   ],
   "source": [
    "df_stocks = df_spark_mod.filter(df_spark_mod.assetType == 'Stock')\n",
    "df_stocks.show(10)"
   ]
  },
  {
   "cell_type": "code",
   "execution_count": 23,
   "metadata": {},
   "outputs": [
    {
     "name": "stdout",
     "output_type": "stream",
     "text": [
      "7509\n"
     ]
    }
   ],
   "source": [
    "print(df_stocks.count())"
   ]
  },
  {
   "cell_type": "code",
   "execution_count": 25,
   "metadata": {},
   "outputs": [
    {
     "data": {
      "text/plain": [
       "4119"
      ]
     },
     "execution_count": 25,
     "metadata": {},
     "output_type": "execute_result"
    }
   ],
   "source": [
    "df_spark.filter(df_spark.assetType == 'ETF').count()"
   ]
  },
  {
   "cell_type": "markdown",
   "metadata": {},
   "source": [
    "## Exercícios"
   ]
  },
  {
   "cell_type": "code",
   "execution_count": 29,
   "metadata": {},
   "outputs": [
    {
     "name": "stdout",
     "output_type": "stream",
     "text": [
      "+-----------+--------+--------+---+----+--------+---------+----------+-----------+--------+----------+--------------+\n",
      "|brokered_by|  status|   price|bed|bath|acre_lot|   street|      city|      state|zip_code|house_size|prev_sold_date|\n",
      "+-----------+--------+--------+---+----+--------+---------+----------+-----------+--------+----------+--------------+\n",
      "|   103378.0|for_sale|105000.0|  3|   2|    0.12|1962661.0|  Adjuntas|Puerto Rico|   00601|     920.0|          NULL|\n",
      "|    52707.0|for_sale| 80000.0|  4|   2|    0.08|1902874.0|  Adjuntas|Puerto Rico|   00601|    1527.0|          NULL|\n",
      "|   103379.0|for_sale| 67000.0|  2|   1|    0.15|1404990.0|Juana Diaz|Puerto Rico|   00795|     748.0|          NULL|\n",
      "+-----------+--------+--------+---+----+--------+---------+----------+-----------+--------+----------+--------------+\n",
      "only showing top 3 rows\n",
      "\n"
     ]
    }
   ],
   "source": [
    "df_spark = (spark.read.format(\"csv\")\n",
    "      .option(\"header\",\"true\")\n",
    "      .load(\"realtor-data.csv\"))\n",
    "df_spark.show(3)"
   ]
  },
  {
   "cell_type": "code",
   "execution_count": 30,
   "metadata": {},
   "outputs": [
    {
     "data": {
      "text/plain": [
       "2226382"
      ]
     },
     "execution_count": 30,
     "metadata": {},
     "output_type": "execute_result"
    }
   ],
   "source": [
    "df_spark.count()"
   ]
  },
  {
   "cell_type": "code",
   "execution_count": 31,
   "metadata": {},
   "outputs": [],
   "source": [
    "import pyspark.sql.functions as F\n",
    "from pyspark.sql.functions import col, lit, when"
   ]
  },
  {
   "cell_type": "code",
   "execution_count": 32,
   "metadata": {},
   "outputs": [
    {
     "data": {
      "text/plain": [
       "2265"
      ]
     },
     "execution_count": 32,
     "metadata": {},
     "output_type": "execute_result"
    }
   ],
   "source": [
    "df_spark.filter((col('state')=='Puerto Rico')&(col('price')>100000)).count()"
   ]
  },
  {
   "cell_type": "code",
   "execution_count": 33,
   "metadata": {},
   "outputs": [
    {
     "data": {
      "text/plain": [
       "2265"
      ]
     },
     "execution_count": 33,
     "metadata": {},
     "output_type": "execute_result"
    }
   ],
   "source": [
    "df_spark.filter((df_spark.state == 'Puerto Rico')&(df_spark.price > 100000)).count()"
   ]
  },
  {
   "cell_type": "code",
   "execution_count": 34,
   "metadata": {},
   "outputs": [
    {
     "name": "stdout",
     "output_type": "stream",
     "text": [
      "+-----------+--------+--------+---+----+--------+---------+-------------+-----------+--------+----------+--------------+--------+\n",
      "|brokered_by|  status|   price|bed|bath|acre_lot|   street|         city|      state|zip_code|house_size|prev_sold_date| tamanho|\n",
      "+-----------+--------+--------+---+----+--------+---------+-------------+-----------+--------+----------+--------------+--------+\n",
      "|   103378.0|for_sale|105000.0|  3|   2|    0.12|1962661.0|     Adjuntas|Puerto Rico|   00601|     920.0|          NULL| pequena|\n",
      "|    52707.0|for_sale| 80000.0|  4|   2|    0.08|1902874.0|     Adjuntas|Puerto Rico|   00601|    1527.0|          NULL|   media|\n",
      "|   103379.0|for_sale| 67000.0|  2|   1|    0.15|1404990.0|   Juana Diaz|Puerto Rico|   00795|     748.0|          NULL| pequena|\n",
      "|    31239.0|for_sale|145000.0|  4|   2|     0.1|1947675.0|        Ponce|Puerto Rico|   00731|    1800.0|          NULL|   media|\n",
      "|    34632.0|for_sale| 65000.0|  6|   2|    0.05| 331151.0|     Mayaguez|Puerto Rico|   00680|      NULL|          NULL|sem info|\n",
      "|   103378.0|for_sale|179000.0|  4|   3|    0.46|1850806.0|San Sebastian|Puerto Rico|   00612|    2520.0|          NULL|   media|\n",
      "|     1205.0|for_sale| 50000.0|  3|   1|     0.2|1298094.0|       Ciales|Puerto Rico|   00639|    2040.0|          NULL|   media|\n",
      "|    50739.0|for_sale| 71600.0|  3|   2|    0.08|1048466.0|        Ponce|Puerto Rico|   00731|    1050.0|          NULL|   media|\n",
      "|    81909.0|for_sale|100000.0|  2|   1|    0.09| 734904.0|        Ponce|Puerto Rico|   00730|    1092.0|          NULL|   media|\n",
      "|    65672.0|for_sale|300000.0|  5|   3|    7.46|1946226.0|   Las Marias|Puerto Rico|   00670|    5403.0|          NULL|  grande|\n",
      "+-----------+--------+--------+---+----+--------+---------+-------------+-----------+--------+----------+--------------+--------+\n",
      "only showing top 10 rows\n",
      "\n"
     ]
    }
   ],
   "source": [
    "# \"pequena” quando house_size é menor que 1000.\n",
    "# “media” quando house_size é menor que 5000 e maior que 1000. \n",
    "# “grande” quando house_size é maior que 5000.\n",
    "# “sem info” quando house_size é null\n",
    "\n",
    "df_spark_mod = df_spark.withColumn(\"tamanho\", when(df_spark.house_size <= 1000, \"pequena\").when((df_spark.house_size > 1000) & (df_spark.house_size <= 5000), \"media\").when(df_spark.house_size > 5000, \"grande\").otherwise(\"sem info\"))\n",
    "df_spark_mod.show(10)"
   ]
  }
 ],
 "metadata": {
  "kernelspec": {
   "display_name": "Python 3",
   "language": "python",
   "name": "python3"
  },
  "language_info": {
   "codemirror_mode": {
    "name": "ipython",
    "version": 3
   },
   "file_extension": ".py",
   "mimetype": "text/x-python",
   "name": "python",
   "nbconvert_exporter": "python",
   "pygments_lexer": "ipython3",
   "version": "3.11.5"
  }
 },
 "nbformat": 4,
 "nbformat_minor": 2
}
