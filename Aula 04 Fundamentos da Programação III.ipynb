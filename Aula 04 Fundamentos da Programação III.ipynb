{
 "cells": [
  {
   "cell_type": "markdown",
   "metadata": {},
   "source": [
    "# Fundamentos da Programação III\n",
    "\n",
    "## Revisando a aula anterior..."
   ]
  },
  {
   "cell_type": "code",
   "execution_count": 15,
   "metadata": {},
   "outputs": [
    {
     "name": "stdout",
     "output_type": "stream",
     "text": [
      "75\n",
      "<class 'tuple'>\n"
     ]
    }
   ],
   "source": [
    "def multi(a, b):\n",
    "    x = a * b\n",
    "    return x\n",
    "\n",
    "print(multi(5,multi(5,3)))\n",
    "\n",
    "def ordena(a,b):\n",
    "    if a > b:\n",
    "        return a, b\n",
    "    else:\n",
    "        return b, a\n",
    "\n",
    "print(type(ordena(5,3)))\n",
    "\n",
    "def eh_par(x):\n",
    "    if x % 2 == 0:\n",
    "        return True\n",
    "    else:\n",
    "        return False\n",
    "\n",
    "if eh_par(5):\n",
    "    print(\"5 é par\")\n",
    "else:\n",
    "    print(\"5 não é par\")"
   ]
  },
  {
   "cell_type": "code",
   "execution_count": 17,
   "metadata": {},
   "outputs": [
    {
     "name": "stdout",
     "output_type": "stream",
     "text": [
      "Bom dia!\n",
      "Boa tarde!\n",
      "Boa noite!\n",
      "Valor inválido!\n"
     ]
    }
   ],
   "source": [
    "horario = input(\"Digite o turno (M-matutino ou V-Vespertino ou N- Noturno):\")\n",
    "\n",
    "turnos = (\"M\", \"m\", \"V\", \"v\", \"N\", \"n\")\n",
    "\n",
    "while horario in turnos:\n",
    "    if horario == \"M\" or horario == \"m\":\n",
    "        print(\"Bom dia!\")\n",
    "    elif horario == \"V\" or horario == \"v\":\n",
    "        print(\"Boa tarde!\")\n",
    "    elif horario == \"N\" or horario == \"n\":\n",
    "        print(\"Boa noite!\")\n",
    "    horario = input(\"Digite o turno (M-matutino ou V-Vespertino ou N- Noturno):\")    \n",
    "    \n",
    "print(\"Valor inválido!\")"
   ]
  },
  {
   "cell_type": "markdown",
   "metadata": {},
   "source": [
    "## Modularizando o código com funções\n",
    "\n",
    "Como poderíamos colocar o código acima em uma função?"
   ]
  },
  {
   "cell_type": "code",
   "execution_count": 19,
   "metadata": {},
   "outputs": [
    {
     "name": "stdout",
     "output_type": "stream",
     "text": [
      "Bom dia!\n",
      "Valor inválido!\n"
     ]
    }
   ],
   "source": [
    "# solução\n",
    "def periodo(horario):\n",
    "    if horario == \"M\" or horario == \"m\":\n",
    "        print(\"Bom dia!\")\n",
    "    elif horario == \"V\" or horario == \"v\":\n",
    "        print(\"Boa tarde!\")\n",
    "    elif horario == \"N\" or horario == \"n\":\n",
    "        print(\"Boa noite!\")\n",
    "    else:\n",
    "        print(\"Valor inválido!\")\n",
    "\n",
    "horario = input(\"Digite o turno (M-matutino ou V-Vespertino ou N- Noturno):\")\n",
    "\n",
    "turnos = (\"M\", \"m\", \"V\", \"v\", \"N\", \"n\")\n",
    "\n",
    "while horario in turnos:\n",
    "    periodo(horario)\n",
    "    horario = input(\"Digite o turno (M-matutino ou V-Vespertino ou N- Noturno):\")    \n",
    "    \n",
    "periodo(\"N\")"
   ]
  },
  {
   "cell_type": "markdown",
   "metadata": {},
   "source": [
    "Faça um programa com uma função chamada `somaImposto`. A função possui dois parâmetros formais: `taxaImposto`, que é a quantia de imposto sobre vendas expressa em porcentagem e `custo`, que é o custo de um item antes do imposto. A função \"altera\" o valor de custo para incluir o imposto sobre vendas."
   ]
  },
  {
   "cell_type": "code",
   "execution_count": 21,
   "metadata": {},
   "outputs": [
    {
     "name": "stdout",
     "output_type": "stream",
     "text": [
      "600.0\n",
      "600.0\n"
     ]
    }
   ],
   "source": [
    "# solução\n",
    "def somaImposto(taxaImposto, custo):\n",
    "    return (taxaImposto * custo) + custo\n",
    "\n",
    "preco_final = somaImposto(0.2, 500)\n",
    "print(preco_final)\n",
    "print(somaImposto(0.2, 500))"
   ]
  },
  {
   "cell_type": "markdown",
   "metadata": {},
   "source": [
    "Faça um Programa que pergunte quanto você ganha por hora e o número de horas trabalhadas no mês. Calcule e mostre o total do seu salário no referido mês, sabendo-se que pode ser descontados 11% para o Imposto de Renda, 8% para o INSS e 5% para o sindicato, *sendo essas porcentagens variáveis*. Então, faça um programa que nos dê:\n",
    "salário bruto.\n",
    "quanto pagou ao INSS.\n",
    "quanto pagou ao sindicato.\n",
    "o salário líquido.\n",
    "calcule os descontos e o salário líquido, conforme a tabela abaixo:\n",
    "\n",
    "``` \n",
    " - Salário Bruto : R$\n",
    " - IR (11%) : R$\n",
    " - INSS (8%) : R$\n",
    " - Sindicato (5%) : R$\n",
    " = Salário Liquido : R$\n",
    "```"
   ]
  },
  {
   "cell_type": "code",
   "execution_count": 25,
   "metadata": {},
   "outputs": [
    {
     "name": "stdout",
     "output_type": "stream",
     "text": [
      " - Salário Bruto : R$ 3200\n",
      " - IR (11%) : R$ 352.0\n",
      " - INSS (8%) : R$ 256.0\n",
      " - Sindicato (5%) : R$ 320.0\n",
      " = Salário Liquido : R$ 2272.0\n"
     ]
    }
   ],
   "source": [
    "# solução\n",
    "def calc_salario_liquido(valor_hora, horas_trabalhadas_mes, ir=0.11, inss=0.08, sindicato=0.05):\n",
    "    salario_bruto = valor_hora * horas_trabalhadas_mes\n",
    "    print(\" - Salário Bruto : R$\", salario_bruto)\n",
    "\n",
    "    desconto_imposto_renda = salario_bruto * ir\n",
    "    print(\" - IR (11%) : R$\", desconto_imposto_renda)\n",
    "\n",
    "    desconto_inss = salario_bruto * inss\n",
    "    print(\" - INSS (8%) : R$\", desconto_inss)\n",
    "\n",
    "    desconto_sindicato = salario_bruto * sindicato\n",
    "    print(\" - Sindicato (5%) : R$\", desconto_sindicato)\n",
    "\n",
    "    salario_liquido = salario_bruto - (desconto_imposto_renda + desconto_inss + desconto_sindicato)\n",
    "    print(\" = Salário Liquido : R$\", salario_liquido)\n",
    "\n",
    "calc_salario_liquido(20, 160, sindicato=0.1)"
   ]
  },
  {
   "cell_type": "markdown",
   "metadata": {},
   "source": [
    "## Funções anônimas (lambda expressions)\n",
    "\n",
    "Escrita mais direta de funções simples, que podem ter seus parâmetros mapeados de uma lista ou dicionário."
   ]
  },
  {
   "cell_type": "code",
   "execution_count": 27,
   "metadata": {},
   "outputs": [
    {
     "name": "stdout",
     "output_type": "stream",
     "text": [
      "25\n",
      "25\n",
      "49\n"
     ]
    }
   ],
   "source": [
    "# exemplo\n",
    "def quadrado(x):\n",
    "    return x ** 2\n",
    "\n",
    "print(quadrado(5))\n",
    "\n",
    "quadrado_lambda = lambda x: x ** 2\n",
    "\n",
    "print(quadrado_lambda(5))\n",
    "print(quadrado_lambda(7))"
   ]
  },
  {
   "cell_type": "markdown",
   "metadata": {},
   "source": [
    "Dado uma lista de números, quais são pares?"
   ]
  },
  {
   "cell_type": "code",
   "execution_count": 30,
   "metadata": {},
   "outputs": [
    {
     "name": "stdout",
     "output_type": "stream",
     "text": [
      "[2, 4, 6, 8, 10]\n"
     ]
    }
   ],
   "source": [
    "# solução\n",
    "\n",
    "numeros = [1,2,3,4,5,6,7,8,9,10]\n",
    "\n",
    "eh_par_lambda = lambda x: x % 2 == 0\n",
    "\n",
    "numeros_pares = list(filter(lambda x: x % 2 == 0, numeros))\n",
    "\n",
    "print(numeros_pares)"
   ]
  },
  {
   "cell_type": "markdown",
   "metadata": {},
   "source": [
    "Poderíamos mapear resultados em lista, otimizando a escrita para saída dos dados:"
   ]
  },
  {
   "cell_type": "code",
   "execution_count": 31,
   "metadata": {},
   "outputs": [
    {
     "name": "stdout",
     "output_type": "stream",
     "text": [
      "[1, 4, 9, 16, 25, 36, 49, 64, 81, 100]\n"
     ]
    }
   ],
   "source": [
    "# solução\n",
    "lista_quadrados = list(map(lambda x: x ** 2, numeros))\n",
    "print(lista_quadrados)"
   ]
  },
  {
   "cell_type": "markdown",
   "metadata": {},
   "source": [
    "Ainda é possível fazer ordenações em uma lista de maneira mais simples:"
   ]
  },
  {
   "cell_type": "code",
   "execution_count": 34,
   "metadata": {},
   "outputs": [
    {
     "name": "stdout",
     "output_type": "stream",
     "text": [
      "[{'nome': 'Caneta', 'preco': 5.99, 'desconto': 0.5}, {'nome': 'Notebook', 'preco': 2499, 'desconto': 0.15}, {'nome': 'Mouse', 'preco': 299, 'desconto': 0.1}]\n"
     ]
    }
   ],
   "source": [
    "# exemplo\n",
    "produtos = [{\"nome\": \"Notebook\", \"preco\": 2499, \"desconto\": 0.15},\n",
    "            {\"nome\": \"Caneta\", \"preco\": 5.99, \"desconto\": 0.5},\n",
    "            {\"nome\": \"Mouse\", \"preco\": 299, \"desconto\": 0.1}]\n",
    "\n",
    "produtos_ordenados = sorted(produtos, key=lambda x: x[\"desconto\"], reverse=True)\n",
    "print(produtos_ordenados)"
   ]
  },
  {
   "cell_type": "markdown",
   "metadata": {},
   "source": [
    "Crie uma função lambda chamada eh_multiplo_dez() que retorna True se um determinado número é múltiplo de 10 e False caso contrário."
   ]
  },
  {
   "cell_type": "code",
   "execution_count": 38,
   "metadata": {},
   "outputs": [
    {
     "name": "stdout",
     "output_type": "stream",
     "text": [
      "True\n"
     ]
    }
   ],
   "source": [
    "# solução\n",
    "\n",
    "eh_multiplo_dez = lambda x: x % 10 == 0\n",
    "print(eh_multiplo_dez(100))"
   ]
  },
  {
   "cell_type": "markdown",
   "metadata": {},
   "source": [
    "Converta o programa de cálculo de fatorial da aula anterior para uma função. A função recebe como argumento o n e retorna o fatorial de n."
   ]
  },
  {
   "cell_type": "code",
   "execution_count": null,
   "metadata": {},
   "outputs": [],
   "source": [
    "# solução\n",
    "\n",
    "def fatorial(n):\n",
    "    pass"
   ]
  },
  {
   "cell_type": "markdown",
   "metadata": {},
   "source": [
    "Crie uma função primeiro_nome que recebe uma string nome completo e retorna somente o primeiro nome. Em seguida, use a função map para aplicar a função a uma lista de strings:\n",
    "nomes = ['João Carlos', 'Maria Eduarda', 'Ana Rute', 'Ana Clara']"
   ]
  },
  {
   "cell_type": "code",
   "execution_count": 39,
   "metadata": {},
   "outputs": [
    {
     "name": "stdout",
     "output_type": "stream",
     "text": [
      "['João', 'Maria', 'Ana', 'Ana']\n"
     ]
    }
   ],
   "source": [
    "# solução\n",
    "\n",
    "nomes = ['João Carlos', 'Maria Eduarda', 'Ana Rute', 'Ana Clara']\n",
    "\n",
    "def primeiro_nome(nome_completo):\n",
    "    nomes = nome_completo.split(\" \")\n",
    "    return nomes[0]\n",
    "\n",
    "lista_primeiros_nomes = list(map(primeiro_nome, nomes))\n",
    "print(lista_primeiros_nomes)"
   ]
  },
  {
   "cell_type": "markdown",
   "metadata": {},
   "source": [
    "Escreva uma função que receba uma data no formato dd/mm/aaaa e retorne o dia da semana correspondente (Monday, Tuesday, etc.)."
   ]
  },
  {
   "cell_type": "code",
   "execution_count": null,
   "metadata": {},
   "outputs": [],
   "source": [
    "# solução"
   ]
  },
  {
   "cell_type": "markdown",
   "metadata": {},
   "source": [
    "## Começando o projeto final\n",
    "\n",
    "Seguir o exemplo dos slides para criar a função pedida:"
   ]
  },
  {
   "cell_type": "code",
   "execution_count": 42,
   "metadata": {},
   "outputs": [],
   "source": [
    "from plyer import notification\n",
    "\n",
    "notification.notify(\n",
    "    title='Título da notificação',\n",
    "    message='Mensagem da notificação',\n",
    "    app_name='Nome do aplicativo',\n",
    "    timeout=10)"
   ]
  },
  {
   "cell_type": "code",
   "execution_count": null,
   "metadata": {},
   "outputs": [],
   "source": [
    "# solução - projeto\n",
    "\n",
    "def alerta(nivel, base, etapa):\n",
    "    pass\n",
    "\n",
    "alerta(1, \"Clientes\", \"extração\")"
   ]
  }
 ],
 "metadata": {
  "kernelspec": {
   "display_name": "Python 3",
   "language": "python",
   "name": "python3"
  },
  "language_info": {
   "codemirror_mode": {
    "name": "ipython",
    "version": 3
   },
   "file_extension": ".py",
   "mimetype": "text/x-python",
   "name": "python",
   "nbconvert_exporter": "python",
   "pygments_lexer": "ipython3",
   "version": "3.11.5"
  }
 },
 "nbformat": 4,
 "nbformat_minor": 2
}
