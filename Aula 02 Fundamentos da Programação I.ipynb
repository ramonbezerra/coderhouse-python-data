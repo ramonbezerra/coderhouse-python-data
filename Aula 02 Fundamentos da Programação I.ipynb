{
 "cells": [
  {
   "cell_type": "markdown",
   "metadata": {},
   "source": [
    "# Fundamentos da Programação I\n",
    "\n",
    "## Armazenando Valores: Variáveis\n",
    "\n",
    "Exemplo: Como calcular a média final do ano escolar de Luísa?\n",
    "\n",
    "Solução: Devemos armazenar as notas bimestrais em variáveis para então calcularmos a média:"
   ]
  },
  {
   "cell_type": "code",
   "execution_count": 36,
   "metadata": {},
   "outputs": [
    {
     "name": "stdout",
     "output_type": "stream",
     "text": [
      "9\n"
     ]
    }
   ],
   "source": [
    "# solução\n",
    "media_1 = 9\n",
    "media_2 = 9\n",
    "media_3 = 9\n",
    "media_4 = 9\n",
    "\n",
    "media_final = (media_1 + media_2 + media_3 + media_4) // 4\n",
    "\n",
    "print(media_final)\n",
    "\n",
    "media_1 = 8.5"
   ]
  },
  {
   "cell_type": "markdown",
   "metadata": {},
   "source": [
    "No exemplo anterior, utilizamos números inteiros; e se fosse números com casas decimais?"
   ]
  },
  {
   "cell_type": "code",
   "execution_count": 10,
   "metadata": {},
   "outputs": [
    {
     "name": "stdout",
     "output_type": "stream",
     "text": [
      "4.65\n"
     ]
    }
   ],
   "source": [
    "# solução\n",
    "\n",
    "Media_1 = 6.5\n",
    "Media_2 = 4.5\n",
    "Media_3 = 2.1\n",
    "Media_4 = 5.5\n",
    "\n",
    "Media_Final = (Media_1 + Media_2 + Media_3 + Media_4) / 4\n",
    "\n",
    "print(Media_Final)"
   ]
  },
  {
   "cell_type": "markdown",
   "metadata": {},
   "source": [
    "Variáveis em Python são case sensitive!"
   ]
  },
  {
   "cell_type": "code",
   "execution_count": 12,
   "metadata": {},
   "outputs": [
    {
     "name": "stdout",
     "output_type": "stream",
     "text": [
      "4.65\n"
     ]
    }
   ],
   "source": [
    "# solução\n",
    "print(Media_Final)"
   ]
  },
  {
   "cell_type": "markdown",
   "metadata": {},
   "source": [
    "Para provar que ela passou de ano, podemos imprimir uma verificação se a média é maior que 7."
   ]
  },
  {
   "cell_type": "code",
   "execution_count": 37,
   "metadata": {},
   "outputs": [
    {
     "name": "stdout",
     "output_type": "stream",
     "text": [
      "False False True\n",
      "<class 'int'>\n"
     ]
    }
   ],
   "source": [
    "# solução\n",
    "print(Media_Final == 7.0, Media_Final >= 7.0, Media_Final <= 7.0)\n",
    "\n",
    "comparacao = Media_Final == 7.0\n",
    "print(type(media_final))"
   ]
  },
  {
   "cell_type": "markdown",
   "metadata": {},
   "source": [
    "Vamos acrescentar que as notas podem vir do teclado!"
   ]
  },
  {
   "cell_type": "code",
   "execution_count": 30,
   "metadata": {},
   "outputs": [
    {
     "name": "stdout",
     "output_type": "stream",
     "text": [
      "6.0\n"
     ]
    }
   ],
   "source": [
    "# solução\n",
    "media_1 = int(input(\"Digite a media do bimestre 1: \"))\n",
    "media_2 = int(input(\"Digite a media do bimestre 2: \"))\n",
    "media_3 = int(input(\"Digite a media do bimestre 3: \"))\n",
    "media_4 = int(input(\"Digite a media do bimestre 4: \"))\n",
    "\n",
    "media_final = (media_1 + media_2 + media_3 + media_4) / 4\n",
    "print(\"Sua média final é: \", media_final)"
   ]
  },
  {
   "cell_type": "markdown",
   "metadata": {},
   "source": [
    "Como sabe se um número é par ou ímpar?"
   ]
  },
  {
   "cell_type": "code",
   "execution_count": 35,
   "metadata": {},
   "outputs": [
    {
     "name": "stdout",
     "output_type": "stream",
     "text": [
      "1\n"
     ]
    }
   ],
   "source": [
    "# usando o operador módulo\n",
    "# o seu resultado é o resto da divisão\n",
    "\n",
    "print(25693 % 2)"
   ]
  },
  {
   "cell_type": "markdown",
   "metadata": {},
   "source": [
    "Faça um Programa que pergunte quanto você ganha por hora e o número de horas trabalhadas no mês. Calcule e mostre o total do seu salário no referido mês, sabendo-se que são descontados 11% para o Imposto de Renda, 8% para o INSS e 5% para o sindicato, faça um programa que nos dê:\n",
    "salário bruto.\n",
    "quanto pagou ao INSS.\n",
    "quanto pagou ao sindicato.\n",
    "o salário líquido.\n",
    "calcule os descontos e o salário líquido, conforme a tabela abaixo:\n",
    "\n",
    "``` \n",
    " - Salário Bruto : R$\n",
    " - IR (11%) : R$\n",
    " - INSS (8%) : R$\n",
    " - Sindicato (5%) : R$\n",
    " = Salário Liquido : R$\n",
    "```"
   ]
  },
  {
   "cell_type": "code",
   "execution_count": 1,
   "metadata": {},
   "outputs": [
    {
     "name": "stdout",
     "output_type": "stream",
     "text": [
      " - Salário Bruto : R$ 1600\n",
      " - IR (11%) : R$ 176.0\n",
      " - INSS (8%) : R$ 128.0\n",
      " - Sindicato (5%) : R$ 80.0\n",
      " = Salário Liquido : R$ 1216.0\n"
     ]
    }
   ],
   "source": [
    "# solução\n",
    "valor_hora = int(input(\"Digite seu salário por hora: \"))\n",
    "horas_trabalhadas_mes = int(input(\"Digite o total de horas trabalhadas no mês: \"))\n",
    "\n",
    "salario_bruto = valor_hora * horas_trabalhadas_mes\n",
    "print(\" - Salário Bruto : R$\", salario_bruto)\n",
    "\n",
    "imposto_renda = salario_bruto * 0.11\n",
    "print(\" - IR (11%) : R$\", imposto_renda)\n",
    "\n",
    "inss = salario_bruto * 0.08\n",
    "print(\" - INSS (8%) : R$\", inss)\n",
    "\n",
    "sindicato = salario_bruto * 0.05\n",
    "print(\" - Sindicato (5%) : R$\", sindicato)\n",
    "\n",
    "salario_liquido = salario_bruto - (imposto_renda + inss + sindicato)\n",
    "print(\" = Salário Liquido : R$\", salario_liquido)"
   ]
  },
  {
   "cell_type": "markdown",
   "metadata": {},
   "source": [
    "Incremente o programa anterior dividindo as faixas de imposto de renda: até 2 salários mínimos você estará isento, e deverá imprimir um aviso ao usuário quando isso acontecer!"
   ]
  },
  {
   "cell_type": "code",
   "execution_count": 43,
   "metadata": {},
   "outputs": [
    {
     "name": "stdout",
     "output_type": "stream",
     "text": [
      " - Salário Bruto : R$ 1600\n",
      "True\n"
     ]
    }
   ],
   "source": [
    "# solução\n",
    "salario_minimo = 1412\n",
    "\n",
    "valor_hora = int(input(\"Digite seu salário por hora: \"))\n",
    "horas_trabalhadas_mes = int(input(\"Digite o total de horas trabalhadas no mês: \"))\n",
    "\n",
    "salario_bruto = valor_hora * horas_trabalhadas_mes\n",
    "print(\" - Salário Bruto : R$\", salario_bruto)\n",
    "\n",
    "print(salario_bruto <= (2 * salario_minimo))"
   ]
  },
  {
   "cell_type": "markdown",
   "metadata": {},
   "source": [
    "Podemos checar os conectores lógicos e a precedência: Como resolver a questão anterior para o caso que isenta o empregado de pagar sindicato caso ele não pague imposto de renda ou se o salário líquido fica abaixo de 2 salários mínimos? "
   ]
  },
  {
   "cell_type": "code",
   "execution_count": 45,
   "metadata": {},
   "outputs": [
    {
     "name": "stdout",
     "output_type": "stream",
     "text": [
      " - Salário Bruto : R$ 1600\n",
      " - Sindicato (5%) : R$ True\n",
      " = Salário Liquido : R$ 851.2\n"
     ]
    }
   ],
   "source": [
    "# solução\n",
    "valor_hora = int(input(\"Digite seu salário por hora: \"))\n",
    "horas_trabalhadas_mes = int(input(\"Digite o total de horas trabalhadas no mês: \"))\n",
    "\n",
    "salario_minimo = 1412\n",
    "\n",
    "salario_bruto = valor_hora * horas_trabalhadas_mes\n",
    "print(\" - Salário Bruto : R$\", salario_bruto)\n",
    "\n",
    "# imposto_renda = salario_bruto * 0.11\n",
    "# print(\" - IR (11%) : R$\", imposto_renda)\n",
    "\n",
    "# inss = salario_bruto * 0.08\n",
    "# print(\" - INSS (8%) : R$\", inss)\n",
    "\n",
    "sindicato = salario_bruto * 0.05\n",
    "\n",
    "salario_liquido = salario_bruto - (imposto_renda + inss + sindicato)\n",
    "\n",
    "# =SE(SALARIO_BRUTO <= 2*SALARIO_MINIMO)\n",
    "print(\" - Sindicato (5%) : R$\", (not salario_bruto <= (2 * salario_minimo)) and salario_liquido > (2 * salario_minimo))\n",
    "print(\" = Salário Liquido : R$\", salario_liquido)"
   ]
  },
  {
   "cell_type": "markdown",
   "metadata": {},
   "source": [
    "## Trabalhando com Strings"
   ]
  },
  {
   "cell_type": "code",
   "execution_count": 59,
   "metadata": {},
   "outputs": [
    {
     "name": "stdout",
     "output_type": "stream",
     "text": [
      "zerr\n"
     ]
    }
   ],
   "source": [
    "nome = \"Ramon-Bezerra\"\n",
    "\n",
    "#       0123456\n",
    "#slice\n",
    "print(nome[-5:-1])"
   ]
  },
  {
   "cell_type": "markdown",
   "metadata": {},
   "source": [
    "Como podemos melhorar a solução do cálculo das notas usando estruturas de dados?"
   ]
  },
  {
   "cell_type": "code",
   "execution_count": 66,
   "metadata": {},
   "outputs": [
    {
     "name": "stdout",
     "output_type": "stream",
     "text": [
      "Ramon\n",
      "[1, 'Ramon', 'Bezerra', 'da', 'Nóbrega']\n",
      "[1, 'Ramon', 'Bezerra', '31']\n",
      "['Ramon', 'Bezerra', '31']\n"
     ]
    }
   ],
   "source": [
    "# solução\n",
    "minha_lista = [1, \"Ramon\", \"Bezerra\"]\n",
    "\n",
    "print(minha_lista[1])\n",
    "\n",
    "print(minha_lista + [\"da\", \"Nóbrega\"])\n",
    "minha_lista.append(\"31\")\n",
    "\n",
    "print(minha_lista)\n",
    "\n",
    "del(minha_lista[0])\n",
    "print(minha_lista)"
   ]
  },
  {
   "cell_type": "markdown",
   "metadata": {},
   "source": [
    "Vamos otimizar nossas saídas no terminal com operações com strings: são semelhantes às operações com listas!"
   ]
  },
  {
   "cell_type": "code",
   "execution_count": null,
   "metadata": {},
   "outputs": [],
   "source": [
    "# solução"
   ]
  },
  {
   "cell_type": "code",
   "execution_count": 72,
   "metadata": {},
   "outputs": [
    {
     "name": "stdout",
     "output_type": "stream",
     "text": [
      "{1, 2, 3, '2'}\n",
      "1\n",
      "{'key1': 1, 2: 'value2'}\n"
     ]
    }
   ],
   "source": [
    "# listas e sets\n",
    "lista = [1,2,3,\"2\",\"2\",3]\n",
    "print(set(lista))\n",
    "\n",
    "dicionario = {\"key1\":1, 2:\"value2\"}\n",
    "print(dicionario[\"key1\"])\n",
    "print(dicionario)"
   ]
  }
 ],
 "metadata": {
  "kernelspec": {
   "display_name": "Python 3",
   "language": "python",
   "name": "python3"
  },
  "language_info": {
   "codemirror_mode": {
    "name": "ipython",
    "version": 3
   },
   "file_extension": ".py",
   "mimetype": "text/x-python",
   "name": "python",
   "nbconvert_exporter": "python",
   "pygments_lexer": "ipython3",
   "version": "3.11.5"
  }
 },
 "nbformat": 4,
 "nbformat_minor": 2
}
