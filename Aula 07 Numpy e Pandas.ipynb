{
 "cells": [
  {
   "cell_type": "markdown",
   "metadata": {},
   "source": [
    "# Introdução a NumPy e Pandas\n",
    "\n",
    "O NumPy é ótimo para armazenar e manipular dados numéricos em matrizes.\n",
    "\n",
    "## NumPy: Exemplo\n",
    "\n",
    "\"Resenha de Filme\" é um site de resenhas de filmes onde quatro bons amigos e críticos de filmes: Luísa, Maria, Tony e Kaio assistem a filmes e dão a eles notas em uma escala de 0 a 100."
   ]
  },
  {
   "cell_type": "code",
   "execution_count": 1,
   "metadata": {},
   "outputs": [],
   "source": [
    "import numpy as np"
   ]
  },
  {
   "cell_type": "markdown",
   "metadata": {},
   "source": [
    "Quando toda a turma classifica um filme, podemos armazenar suas classificações em um array NumPy `movie_ratings`:"
   ]
  },
  {
   "cell_type": "code",
   "execution_count": 2,
   "metadata": {},
   "outputs": [],
   "source": [
    "movie_ratings = np.array([63.0, 54.0, 70.0, 50.0])"
   ]
  },
  {
   "cell_type": "markdown",
   "metadata": {},
   "source": [
    "Mas eles assistem a mais de um filme, então temos que criar uma matriz bidimensional onde cada linha contém suas classificações para um filme específico."
   ]
  },
  {
   "cell_type": "code",
   "execution_count": 13,
   "metadata": {},
   "outputs": [
    {
     "data": {
      "text/plain": [
       "array([[63., 54., 70., 50.],\n",
       "       [94., 85., 89., 95.],\n",
       "       [64., 90., 73., 85.]])"
      ]
     },
     "execution_count": 13,
     "metadata": {},
     "output_type": "execute_result"
    }
   ],
   "source": [
    "movie_ratings = np.array([[63.0, 54.0, 70.0, 50.0],\n",
    "                          [94.0, 85.0, 89.0, 95.0],\n",
    "                          [64.0, 90.0, 73.0, 85.0]])\n",
    "movie_ratings"
   ]
  },
  {
   "cell_type": "markdown",
   "metadata": {},
   "source": [
    "Alguns fãs preferem que os filmes sejam classificados em uma escala de cinco estrelas, então podemos usar o NumPy para dividir facilmente cada elemento por 20."
   ]
  },
  {
   "cell_type": "code",
   "execution_count": 5,
   "metadata": {},
   "outputs": [
    {
     "data": {
      "text/plain": [
       "array([[3.15, 2.7 , 3.5 , 2.5 ],\n",
       "       [4.7 , 4.25, 4.45, 4.75],\n",
       "       [3.2 , 4.5 , 3.65, 4.25]])"
      ]
     },
     "execution_count": 5,
     "metadata": {},
     "output_type": "execute_result"
    }
   ],
   "source": [
    "movie_ratings_stars = movie_ratings / 20\n",
    "movie_ratings_stars"
   ]
  },
  {
   "cell_type": "markdown",
   "metadata": {},
   "source": [
    "Agora, digamos que as classificações estejam sempre na mesma ordem (Luísa, Maria, Tony, Kaio). Se quiséssemos criar uma matriz que tivesse apenas as classificações de Tony, poderíamos selecioná-las em nossa matriz movie_ratings."
   ]
  },
  {
   "cell_type": "code",
   "execution_count": 6,
   "metadata": {},
   "outputs": [
    {
     "data": {
      "text/plain": [
       "array([70., 89., 73.])"
      ]
     },
     "execution_count": 6,
     "metadata": {},
     "output_type": "execute_result"
    }
   ],
   "source": [
    "tony_ratings = movie_ratings[:, 2]\n",
    "tony_ratings"
   ]
  },
  {
   "cell_type": "markdown",
   "metadata": {},
   "source": [
    "Agora, digamos que descobrimos que temos gostos muito parecidos com os de Maria, então queremos ver apenas filmes aos quais ele dá uma boa classificação. Podemos usar a lógica para selecionar esses filmes.\n",
    "\n",
    "Vamos selecionar todas as classificações de Maria que são acima de 80:"
   ]
  },
  {
   "cell_type": "code",
   "execution_count": 7,
   "metadata": {},
   "outputs": [
    {
     "data": {
      "text/plain": [
       "array([85., 90.])"
      ]
     },
     "execution_count": 7,
     "metadata": {},
     "output_type": "execute_result"
    }
   ],
   "source": [
    "maria_ratings = movie_ratings[:, 1]\n",
    "maria_ratings[maria_ratings > 80]"
   ]
  },
  {
   "cell_type": "markdown",
   "metadata": {},
   "source": [
    "## NumPy: Exercício\n",
    "\n",
    "Joana está pensando em abrir uma confeitaria e precisará começar a comprar todo o seu leite, ovos, açúcar, farinha e manteiga a granel.\n",
    "\n",
    "Ajude ela a descobrir quanto precisa comprar usando matrizes NumPy que descrevem suas receitas.\n",
    "\n",
    "Por exemplo, sua receita de cupcake pede:\n",
    "\n",
    "Farinha\t - 2 xícaras\n",
    "Açúcar - 0,75 xícaras\t\n",
    "Ovos - 2 ovos\t\n",
    "Leite - 1 xícaras\n",
    "Manteiga - 0,5 xícaras\n",
    "\n",
    "Crie um array NumPy que represente esses dados. Cada elemento deve ser um número (por exemplo, 2 para \"2 xícaras\"). Salve esse array como `cupcakes`."
   ]
  },
  {
   "cell_type": "code",
   "execution_count": 14,
   "metadata": {},
   "outputs": [
    {
     "data": {
      "text/plain": [
       "array([2.  , 0.75, 2.  , 1.  , 0.5 ])"
      ]
     },
     "execution_count": 14,
     "metadata": {},
     "output_type": "execute_result"
    }
   ],
   "source": [
    "# solução\n",
    "cupcakes = np.array([2, 0.75, 2, 1, 0.5])\n",
    "cupcakes"
   ]
  },
  {
   "cell_type": "markdown",
   "metadata": {},
   "source": [
    "A assistente de Joana compilou todas as suas receitas em um arquivo csv (comma-separated variable) chamado `recipes.csv`. Carregue esse arquivo em uma variável chamada `recipes`. Cada linha representa uma receita diferente. Cada coluna representa um ingrediente diferente."
   ]
  },
  {
   "cell_type": "code",
   "execution_count": 15,
   "metadata": {},
   "outputs": [
    {
     "data": {
      "text/plain": [
       "array([[2.   , 0.75 , 2.   , 1.   , 0.5  ],\n",
       "       [1.   , 0.125, 1.   , 1.   , 0.125],\n",
       "       [2.75 , 1.5  , 1.   , 0.   , 1.   ],\n",
       "       [4.   , 0.5  , 2.   , 2.   , 0.5  ]])"
      ]
     },
     "execution_count": 15,
     "metadata": {},
     "output_type": "execute_result"
    }
   ],
   "source": [
    "# solução\n",
    "recipes = np.genfromtxt('recipes.csv', delimiter=',')\n",
    "recipes"
   ]
  },
  {
   "cell_type": "markdown",
   "metadata": {},
   "source": [
    "A 3ª coluna representa o número de ovos que cada receita necessita.\n",
    "\n",
    "Selecione todos os elementos da 3ª coluna e salve-os na variável `eggs`."
   ]
  },
  {
   "cell_type": "code",
   "execution_count": 16,
   "metadata": {},
   "outputs": [
    {
     "data": {
      "text/plain": [
       "array([2., 1., 1., 2.])"
      ]
     },
     "execution_count": 16,
     "metadata": {},
     "output_type": "execute_result"
    }
   ],
   "source": [
    "# solução\n",
    "eggs = recipes[:, 2]\n",
    "eggs"
   ]
  },
  {
   "cell_type": "markdown",
   "metadata": {},
   "source": [
    "Quais receitas exigem exatamente 1 ovo? Use uma declaração lógica para obter True ou False para cada valor de `eggs`"
   ]
  },
  {
   "cell_type": "code",
   "execution_count": 18,
   "metadata": {},
   "outputs": [
    {
     "data": {
      "text/plain": [
       "array([1., 1.])"
      ]
     },
     "execution_count": 18,
     "metadata": {},
     "output_type": "execute_result"
    }
   ],
   "source": [
    "# solução\n",
    "one_egg = eggs[eggs == 1]\n",
    "one_egg"
   ]
  },
  {
   "cell_type": "markdown",
   "metadata": {},
   "source": [
    "Joana fará 2 fornadas de cupcakes (1ª fileira) e 1 fornada de biscoitos (3ª fileira).\n",
    "\n",
    "Você já tem uma variável para `cupcakes`. Crie uma variável `cookies` com os dados da 3ª linha."
   ]
  },
  {
   "cell_type": "code",
   "execution_count": 25,
   "metadata": {},
   "outputs": [
    {
     "data": {
      "text/plain": [
       "array([2.75, 1.5 , 1.  , 0.  , 1.  ])"
      ]
     },
     "execution_count": 25,
     "metadata": {},
     "output_type": "execute_result"
    }
   ],
   "source": [
    "# solução\n",
    "cookies = np.array(recipes[2]) # ou recipes[2] somente\n",
    "cookies"
   ]
  },
  {
   "cell_type": "markdown",
   "metadata": {},
   "source": [
    "Obtenha o número de ingredientes para uma porção dupla de cupcakes usando multiplicação em `cupcakes`. Salve sua nova variável em `double_batch`."
   ]
  },
  {
   "cell_type": "code",
   "execution_count": 26,
   "metadata": {},
   "outputs": [
    {
     "data": {
      "text/plain": [
       "array([4. , 1.5, 4. , 2. , 1. ])"
      ]
     },
     "execution_count": 26,
     "metadata": {},
     "output_type": "execute_result"
    }
   ],
   "source": [
    "# solução\n",
    "double_batch = cupcakes * 2\n",
    "double_batch"
   ]
  },
  {
   "cell_type": "markdown",
   "metadata": {},
   "source": [
    "Crie uma nova variável chamada `grocery_list` adicionando `cookies` e `double_batch`."
   ]
  },
  {
   "cell_type": "code",
   "execution_count": 28,
   "metadata": {},
   "outputs": [
    {
     "data": {
      "text/plain": [
       "array([[2.75, 1.5 , 1.  , 0.  , 1.  ],\n",
       "       [4.  , 1.5 , 4.  , 2.  , 1.  ]])"
      ]
     },
     "execution_count": 28,
     "metadata": {},
     "output_type": "execute_result"
    }
   ],
   "source": [
    "# solução\n",
    "# grocery_list = cookies + double_batch\n",
    "grocery_list = np.array([cookies, double_batch])\n",
    "grocery_list"
   ]
  },
  {
   "cell_type": "markdown",
   "metadata": {},
   "source": [
    "## Pandas: Uma breve introdução\n",
    "\n",
    "O Pandas pode nos fornecer respostas sobre os dados, como por exemplo:\n",
    "\n",
    "Existe uma correlação entre duas ou mais colunas? Qual é o valor médio? Qual o valor máximo? Qual o valor mínimo? O Pandas também é capaz de excluir linhas que são irrelevantes ou que contêm valores incorretos, como valores vazios ou NULL, deixando os dados limpos. \n",
    "\n",
    "Relacionando inicialmente as funções do NumPy com o Pandas, poderíamos gerar uma série com os dados da porção dupla de cupcakes:"
   ]
  },
  {
   "cell_type": "code",
   "execution_count": 29,
   "metadata": {},
   "outputs": [],
   "source": [
    "import pandas as pd"
   ]
  },
  {
   "cell_type": "code",
   "execution_count": 32,
   "metadata": {},
   "outputs": [
    {
     "data": {
      "text/plain": [
       "0    4.0\n",
       "1    1.5\n",
       "2    4.0\n",
       "3    2.0\n",
       "4    1.0\n",
       "dtype: float64"
      ]
     },
     "execution_count": 32,
     "metadata": {},
     "output_type": "execute_result"
    }
   ],
   "source": [
    "double_batch_series = pd.Series(double_batch)\n",
    "double_batch_series"
   ]
  },
  {
   "cell_type": "markdown",
   "metadata": {},
   "source": [
    "Podemos gerar um DataFrame a partir de várias Series:"
   ]
  },
  {
   "cell_type": "code",
   "execution_count": 33,
   "metadata": {},
   "outputs": [
    {
     "data": {
      "text/html": [
       "<div>\n",
       "<style scoped>\n",
       "    .dataframe tbody tr th:only-of-type {\n",
       "        vertical-align: middle;\n",
       "    }\n",
       "\n",
       "    .dataframe tbody tr th {\n",
       "        vertical-align: top;\n",
       "    }\n",
       "\n",
       "    .dataframe thead th {\n",
       "        text-align: right;\n",
       "    }\n",
       "</style>\n",
       "<table border=\"1\" class=\"dataframe\">\n",
       "  <thead>\n",
       "    <tr style=\"text-align: right;\">\n",
       "      <th></th>\n",
       "      <th>0</th>\n",
       "      <th>1</th>\n",
       "      <th>2</th>\n",
       "      <th>3</th>\n",
       "      <th>4</th>\n",
       "    </tr>\n",
       "  </thead>\n",
       "  <tbody>\n",
       "    <tr>\n",
       "      <th>0</th>\n",
       "      <td>2.00</td>\n",
       "      <td>0.750</td>\n",
       "      <td>2.0</td>\n",
       "      <td>1.0</td>\n",
       "      <td>0.500</td>\n",
       "    </tr>\n",
       "    <tr>\n",
       "      <th>1</th>\n",
       "      <td>1.00</td>\n",
       "      <td>0.125</td>\n",
       "      <td>1.0</td>\n",
       "      <td>1.0</td>\n",
       "      <td>0.125</td>\n",
       "    </tr>\n",
       "    <tr>\n",
       "      <th>2</th>\n",
       "      <td>2.75</td>\n",
       "      <td>1.500</td>\n",
       "      <td>1.0</td>\n",
       "      <td>0.0</td>\n",
       "      <td>1.000</td>\n",
       "    </tr>\n",
       "    <tr>\n",
       "      <th>3</th>\n",
       "      <td>4.00</td>\n",
       "      <td>0.500</td>\n",
       "      <td>2.0</td>\n",
       "      <td>2.0</td>\n",
       "      <td>0.500</td>\n",
       "    </tr>\n",
       "  </tbody>\n",
       "</table>\n",
       "</div>"
      ],
      "text/plain": [
       "      0      1    2    3      4\n",
       "0  2.00  0.750  2.0  1.0  0.500\n",
       "1  1.00  0.125  1.0  1.0  0.125\n",
       "2  2.75  1.500  1.0  0.0  1.000\n",
       "3  4.00  0.500  2.0  2.0  0.500"
      ]
     },
     "execution_count": 33,
     "metadata": {},
     "output_type": "execute_result"
    }
   ],
   "source": [
    "df = pd.DataFrame(recipes)\n",
    "df"
   ]
  },
  {
   "cell_type": "markdown",
   "metadata": {},
   "source": [
    "Por exemplo, se precisássemos listar as nossas compras do supermercado, teríamos algo semelhante a isso:"
   ]
  },
  {
   "cell_type": "code",
   "execution_count": 64,
   "metadata": {},
   "outputs": [
    {
     "data": {
      "text/html": [
       "<div>\n",
       "<style scoped>\n",
       "    .dataframe tbody tr th:only-of-type {\n",
       "        vertical-align: middle;\n",
       "    }\n",
       "\n",
       "    .dataframe tbody tr th {\n",
       "        vertical-align: top;\n",
       "    }\n",
       "\n",
       "    .dataframe thead th {\n",
       "        text-align: right;\n",
       "    }\n",
       "</style>\n",
       "<table border=\"1\" class=\"dataframe\">\n",
       "  <thead>\n",
       "    <tr style=\"text-align: right;\">\n",
       "      <th></th>\n",
       "      <th>Flour</th>\n",
       "      <th>Milk</th>\n",
       "      <th>Sugar</th>\n",
       "      <th>Butter</th>\n",
       "      <th>Eggs</th>\n",
       "    </tr>\n",
       "  </thead>\n",
       "  <tbody>\n",
       "    <tr>\n",
       "      <th>0</th>\n",
       "      <td>2.00</td>\n",
       "      <td>0.750</td>\n",
       "      <td>2</td>\n",
       "      <td>1</td>\n",
       "      <td>0.500</td>\n",
       "    </tr>\n",
       "    <tr>\n",
       "      <th>1</th>\n",
       "      <td>1.00</td>\n",
       "      <td>0.125</td>\n",
       "      <td>1</td>\n",
       "      <td>1</td>\n",
       "      <td>0.125</td>\n",
       "    </tr>\n",
       "    <tr>\n",
       "      <th>2</th>\n",
       "      <td>2.75</td>\n",
       "      <td>1.500</td>\n",
       "      <td>1</td>\n",
       "      <td>0</td>\n",
       "      <td>1.000</td>\n",
       "    </tr>\n",
       "    <tr>\n",
       "      <th>3</th>\n",
       "      <td>4.00</td>\n",
       "      <td>0.500</td>\n",
       "      <td>2</td>\n",
       "      <td>2</td>\n",
       "      <td>0.500</td>\n",
       "    </tr>\n",
       "  </tbody>\n",
       "</table>\n",
       "</div>"
      ],
      "text/plain": [
       "   Flour   Milk  Sugar  Butter   Eggs\n",
       "0   2.00  0.750      2       1  0.500\n",
       "1   1.00  0.125      1       1  0.125\n",
       "2   2.75  1.500      1       0  1.000\n",
       "3   4.00  0.500      2       2  0.500"
      ]
     },
     "execution_count": 64,
     "metadata": {},
     "output_type": "execute_result"
    }
   ],
   "source": [
    "df = pd.DataFrame(recipes, columns=['Flour', 'Milk', 'Sugar', 'Butter', 'Eggs'])\n",
    "df2 = pd.read_csv('recipes.csv', delimiter=',', names=['Flour', 'Milk', 'Sugar', 'Butter', 'Eggs'])\n",
    "df2"
   ]
  },
  {
   "cell_type": "markdown",
   "metadata": {},
   "source": [
    "## Exercícios da aula"
   ]
  },
  {
   "cell_type": "code",
   "execution_count": 36,
   "metadata": {},
   "outputs": [
    {
     "data": {
      "text/plain": [
       "dtype('int32')"
      ]
     },
     "execution_count": 36,
     "metadata": {},
     "output_type": "execute_result"
    }
   ],
   "source": [
    "# exercício 1\n",
    "\n",
    "ex_1 = np.random.randint(0, 100, size=(5, 5))\n",
    "ex_1.dtype"
   ]
  },
  {
   "cell_type": "code",
   "execution_count": 39,
   "metadata": {},
   "outputs": [
    {
     "name": "stdout",
     "output_type": "stream",
     "text": [
      "mínimo:  0.002060519964137919\n",
      "máximo:  0.9495254466031386\n",
      "média dos valores:  0.3938405530175562\n"
     ]
    }
   ],
   "source": [
    "# exercício 2\n",
    "\n",
    "ex_2 = np.random.rand(5,5)\n",
    "print(\"mínimo: \", ex_2.min())\n",
    "print(\"máximo: \", ex_2.max())\n",
    "print(\"média dos valores: \", ex_2.mean())"
   ]
  },
  {
   "cell_type": "code",
   "execution_count": 53,
   "metadata": {},
   "outputs": [
    {
     "data": {
      "text/plain": [
       "array([[ 8, 10,  5,  9,  2,  9,  9,  5, 10,  4]])"
      ]
     },
     "execution_count": 53,
     "metadata": {},
     "output_type": "execute_result"
    }
   ],
   "source": [
    "# exercício 3\n",
    "\n",
    "ex_3 = np.random.rand(1,10)\n",
    "ex_3 = ex_3 * 10\n",
    "ex_3_int = ex_3.astype(int)\n",
    "# ex_3_int\n",
    "ex_3_rounded_int = (np.rint(ex_3)).astype(int) # arrendondamento para baixo\n",
    "# ex_3_rounded_int = (np.ceil(ex_3)).astype(int) # arrendondamento para cima \n",
    "ex_3_rounded_int"
   ]
  },
  {
   "cell_type": "code",
   "execution_count": 57,
   "metadata": {},
   "outputs": [
    {
     "data": {
      "text/plain": [
       "array([[ 7,  6,  8],\n",
       "       [-1, -1, -1],\n",
       "       [ 7,  4,  6]], dtype=int32)"
      ]
     },
     "execution_count": 57,
     "metadata": {},
     "output_type": "execute_result"
    }
   ],
   "source": [
    "# exercício 4 \n",
    "\n",
    "ex_4 = np.random.randint(0, 9, size=(3,3))\n",
    "ex_4[1, :] = -1\n",
    "ex_4"
   ]
  },
  {
   "cell_type": "code",
   "execution_count": 63,
   "metadata": {},
   "outputs": [
    {
     "data": {
      "text/html": [
       "<div>\n",
       "<style scoped>\n",
       "    .dataframe tbody tr th:only-of-type {\n",
       "        vertical-align: middle;\n",
       "    }\n",
       "\n",
       "    .dataframe tbody tr th {\n",
       "        vertical-align: top;\n",
       "    }\n",
       "\n",
       "    .dataframe thead th {\n",
       "        text-align: right;\n",
       "    }\n",
       "</style>\n",
       "<table border=\"1\" class=\"dataframe\">\n",
       "  <thead>\n",
       "    <tr style=\"text-align: right;\">\n",
       "      <th></th>\n",
       "      <th>fruta</th>\n",
       "      <th>preço</th>\n",
       "      <th>quantidade</th>\n",
       "    </tr>\n",
       "  </thead>\n",
       "  <tbody>\n",
       "    <tr>\n",
       "      <th>0</th>\n",
       "      <td>Banana</td>\n",
       "      <td>Maça</td>\n",
       "      <td>Pera</td>\n",
       "    </tr>\n",
       "    <tr>\n",
       "      <th>1</th>\n",
       "      <td>7.9</td>\n",
       "      <td>10.2</td>\n",
       "      <td>11.8</td>\n",
       "    </tr>\n",
       "    <tr>\n",
       "      <th>2</th>\n",
       "      <td>12</td>\n",
       "      <td>-1</td>\n",
       "      <td>4</td>\n",
       "    </tr>\n",
       "  </tbody>\n",
       "</table>\n",
       "</div>"
      ],
      "text/plain": [
       "    fruta preço quantidade\n",
       "0  Banana  Maça       Pera\n",
       "1     7.9  10.2       11.8\n",
       "2      12    -1          4"
      ]
     },
     "execution_count": 63,
     "metadata": {},
     "output_type": "execute_result"
    }
   ],
   "source": [
    "# exercício 5\n",
    "\n",
    "feira = np.array([[\"Banana\", \"Maça\", \"Pera\"],[7.90, 10.20, 11.80], [12, 3, 4]])\n",
    "df = pd.DataFrame(feira, columns=[\"fruta\", \"preço\", \"quantidade\"])\n",
    "df"
   ]
  }
 ],
 "metadata": {
  "kernelspec": {
   "display_name": "Python 3",
   "language": "python",
   "name": "python3"
  },
  "language_info": {
   "codemirror_mode": {
    "name": "ipython",
    "version": 3
   },
   "file_extension": ".py",
   "mimetype": "text/x-python",
   "name": "python",
   "nbconvert_exporter": "python",
   "pygments_lexer": "ipython3",
   "version": "3.11.5"
  }
 },
 "nbformat": 4,
 "nbformat_minor": 2
}
