{
 "cells": [
  {
   "cell_type": "markdown",
   "metadata": {},
   "source": [
    "# Introdução a NumPy e Pandas\n",
    "\n",
    "O NumPy é ótimo para armazenar e manipular dados numéricos em matrizes.\n",
    "\n",
    "## NumPy: Exemplo\n",
    "\n",
    "\"Resenha de Filme\" é um site de resenhas de filmes onde quatro bons amigos e críticos de filmes: Luísa, Maria, Tony e Kaio assistem a filmes e dão a eles notas em uma escala de 0 a 100."
   ]
  },
  {
   "cell_type": "code",
   "execution_count": null,
   "metadata": {},
   "outputs": [],
   "source": [
    "import numpy as np"
   ]
  },
  {
   "cell_type": "markdown",
   "metadata": {},
   "source": [
    "Quando toda a turma classifica um filme, podemos armazenar suas classificações em um array NumPy `movie_ratings`:"
   ]
  },
  {
   "cell_type": "code",
   "execution_count": null,
   "metadata": {},
   "outputs": [],
   "source": [
    "movie_ratings = np.array([63.0, 54.0, 70.0, 50.0])"
   ]
  },
  {
   "cell_type": "markdown",
   "metadata": {},
   "source": [
    "Mas eles assistem a mais de um filme, então temos que criar uma matriz bidimensional onde cada linha contém suas classificações para um filme específico."
   ]
  },
  {
   "cell_type": "code",
   "execution_count": null,
   "metadata": {},
   "outputs": [],
   "source": [
    "movie_ratings = np.array([[63.0, 54.0, 70.0, 50.0],\n",
    "                          [94.0, 85.0, 89.0, 95.0],\n",
    "                          [64.0, 90.0, 73.0, 85.0]])"
   ]
  },
  {
   "cell_type": "markdown",
   "metadata": {},
   "source": [
    "Alguns fãs preferem que os filmes sejam classificados em uma escala de cinco estrelas, então podemos usar o NumPy para dividir facilmente cada elemento por 20."
   ]
  },
  {
   "cell_type": "code",
   "execution_count": null,
   "metadata": {},
   "outputs": [],
   "source": [
    "movie_ratings_stars = movie_ratings / 20\n",
    "movie_ratings_stars"
   ]
  },
  {
   "cell_type": "markdown",
   "metadata": {},
   "source": [
    "Agora, digamos que as classificações estejam sempre na mesma ordem (Luísa, Maria, Tony, Kaio). Se quiséssemos criar uma matriz que tivesse apenas as classificações de Tony, poderíamos selecioná-las em nossa matriz movie_ratings."
   ]
  },
  {
   "cell_type": "code",
   "execution_count": null,
   "metadata": {},
   "outputs": [],
   "source": [
    "tony_ratings = movie_ratings[:, 2]\n",
    "tony_ratings"
   ]
  },
  {
   "cell_type": "markdown",
   "metadata": {},
   "source": [
    "Agora, digamos que descobrimos que temos gostos muito parecidos com os de Maria, então queremos ver apenas filmes aos quais ele dá uma boa classificação. Podemos usar a lógica para selecionar esses filmes.\n",
    "\n",
    "Vamos selecionar todas as classificações de Maria que são acima de 80:"
   ]
  },
  {
   "cell_type": "code",
   "execution_count": null,
   "metadata": {},
   "outputs": [],
   "source": [
    "maria_ratings = movie_ratings[:, 1]\n",
    "maria_ratings[maria_ratings > 80]"
   ]
  },
  {
   "cell_type": "markdown",
   "metadata": {},
   "source": [
    "## NumPy: Exercício\n",
    "\n",
    "Joana está pensando em abrir uma confeitaria e precisará começar a comprar todo o seu leite, ovos, açúcar, farinha e manteiga a granel.\n",
    "\n",
    "Ajude ela a descobrir quanto precisa comprar usando matrizes NumPy que descrevem suas receitas.\n",
    "\n",
    "Por exemplo, sua receita de cupcake pede:\n",
    "\n",
    "Farinha\t - 2 xícaras\n",
    "Açúcar - 0,75 xícaras\t\n",
    "Ovos - 2 ovos\t\n",
    "Leite - 1 xícaras\n",
    "Manteiga - 0,5 xícaras\n",
    "\n",
    "Crie um array NumPy que represente esses dados. Cada elemento deve ser um número (por exemplo, 2para \"2 xícaras\"). Salve esse array como `cupcakes`."
   ]
  },
  {
   "cell_type": "code",
   "execution_count": null,
   "metadata": {},
   "outputs": [],
   "source": [
    "# solução"
   ]
  },
  {
   "cell_type": "markdown",
   "metadata": {},
   "source": [
    "A assistente de Joana compilou todas as suas receitas em um arquivo csv (comma-separated variable) chamado `recipes.csv`. Carregue esse arquivo em uma variável chamada `recipes`. Cada linha representa uma receita diferente. Cada coluna representa um ingrediente diferente."
   ]
  },
  {
   "cell_type": "code",
   "execution_count": null,
   "metadata": {},
   "outputs": [],
   "source": [
    "# solução"
   ]
  },
  {
   "cell_type": "markdown",
   "metadata": {},
   "source": [
    "A 3ª coluna representa o número de ovos que cada receita necessita.\n",
    "\n",
    "Selecione todos os elementos da 3ª coluna e salve-os na variável `eggs`."
   ]
  },
  {
   "cell_type": "code",
   "execution_count": null,
   "metadata": {},
   "outputs": [],
   "source": [
    "# solução"
   ]
  },
  {
   "cell_type": "markdown",
   "metadata": {},
   "source": [
    "Quais receitas exigem exatamente 1 ovo? Use uma declaração lógica para obter True ou False para cada valor de `eggs`"
   ]
  },
  {
   "cell_type": "code",
   "execution_count": null,
   "metadata": {},
   "outputs": [],
   "source": [
    "# solução"
   ]
  },
  {
   "cell_type": "markdown",
   "metadata": {},
   "source": [
    "Joana fará 2 fornadas de cupcakes (1ª fileira) e 1 fornada de biscoitos (3ª fileira).\n",
    "\n",
    "Você já tem uma variável para `cupcakes`. Crie uma variável `cookies` com os dados da 3ª linha."
   ]
  },
  {
   "cell_type": "code",
   "execution_count": null,
   "metadata": {},
   "outputs": [],
   "source": [
    "# solução"
   ]
  },
  {
   "cell_type": "markdown",
   "metadata": {},
   "source": [
    "Obtenha o número de ingredientes para uma porção dupla de cupcakes usando multiplicação em `cupcakes`. Salve sua nova variável em `double_batch`."
   ]
  },
  {
   "cell_type": "code",
   "execution_count": null,
   "metadata": {},
   "outputs": [],
   "source": [
    "# solução"
   ]
  },
  {
   "cell_type": "markdown",
   "metadata": {},
   "source": [
    "Crie uma nova variável chamada `grocery_list` adicionando `cookies` e `double_batch`."
   ]
  },
  {
   "cell_type": "code",
   "execution_count": null,
   "metadata": {},
   "outputs": [],
   "source": [
    "# solução"
   ]
  },
  {
   "cell_type": "markdown",
   "metadata": {},
   "source": [
    "## Pandas: Uma breve introdução\n",
    "\n",
    "O Pandas pode nos fornecer respostas sobre os dados, como por exemplo:\n",
    "\n",
    "Existe uma correlação entre duas ou mais colunas? Qual é o valor médio? Qual o valor máximo? Qual o valor mínimo? O Pandas também é capaz de excluir linhas que são irrelevantes ou que contêm valores incorretos, como valores vazios ou NULL, deixando os dados limpos. \n",
    "\n",
    "Relacionando inicialmente as funções do NumPy com o Pandas, poderíamos gerar uma série com os dados da porção dupla de cupcakes:"
   ]
  },
  {
   "cell_type": "code",
   "execution_count": null,
   "metadata": {},
   "outputs": [],
   "source": [
    "import pandas as pd\n",
    "\n",
    "pd.Series(double_batch)"
   ]
  },
  {
   "cell_type": "markdown",
   "metadata": {},
   "source": [
    "Podemos gerar um DataFrame a partir de várias Series:"
   ]
  },
  {
   "cell_type": "code",
   "execution_count": null,
   "metadata": {},
   "outputs": [],
   "source": [
    "df = pd.DataFrame(recipes)\n",
    "df"
   ]
  },
  {
   "cell_type": "markdown",
   "metadata": {},
   "source": [
    "Por exemplo, se precisássemos listar as nossas compras do supermercado, teríamos algo semelhante a isso:"
   ]
  },
  {
   "cell_type": "code",
   "execution_count": null,
   "metadata": {},
   "outputs": [],
   "source": [
    "df = pd.DataFrame(recipes, columns=['Flour', 'Milk', 'Sugar', 'Butter', 'Eggs'])\n",
    "df"
   ]
  }
 ],
 "metadata": {
  "kernelspec": {
   "display_name": "Python 3",
   "language": "python",
   "name": "python3"
  },
  "language_info": {
   "codemirror_mode": {
    "name": "ipython",
    "version": 3
   },
   "file_extension": ".py",
   "mimetype": "text/x-python",
   "name": "python",
   "nbconvert_exporter": "python",
   "pygments_lexer": "ipython3",
   "version": "3.11.5"
  }
 },
 "nbformat": 4,
 "nbformat_minor": 2
}
